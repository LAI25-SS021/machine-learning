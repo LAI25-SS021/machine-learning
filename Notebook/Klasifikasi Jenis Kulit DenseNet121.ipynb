{
 "cells": [
  {
   "cell_type": "markdown",
   "metadata": {
    "id": "H9wADwK78DCz"
   },
   "source": [
    "# Proyek Klasifikasi Gambar: Oily, Dry and Normal Skin Types w DenseNet121"
   ]
  },
  {
   "cell_type": "markdown",
   "metadata": {
    "id": "H-z4QGlO8DC1"
   },
   "source": [
    "## Import Library"
   ]
  },
  {
   "cell_type": "code",
   "execution_count": null,
   "metadata": {
    "colab": {
     "base_uri": "https://localhost:8080/"
    },
    "executionInfo": {
     "elapsed": 2513,
     "status": "ok",
     "timestamp": 1748354193934,
     "user": {
      "displayName": "rin rif",
      "userId": "06048421096036182618"
     },
     "user_tz": -420
    },
    "id": "1_3k-7qjNNrU",
    "outputId": "adf10847-2a96-436c-b8a7-744af38775c2"
   },
   "outputs": [
    {
     "name": "stdout",
     "output_type": "stream",
     "text": [
      "Collecting split-folders\n",
      "  Downloading split_folders-0.5.1-py3-none-any.whl.metadata (6.2 kB)\n",
      "Downloading split_folders-0.5.1-py3-none-any.whl (8.4 kB)\n",
      "Installing collected packages: split-folders\n",
      "Successfully installed split-folders-0.5.1\n"
     ]
    }
   ],
   "source": [
    "# !pip install split-folders"
   ]
  },
  {
   "cell_type": "code",
   "execution_count": 2,
   "metadata": {
    "executionInfo": {
     "elapsed": 1488,
     "status": "ok",
     "timestamp": 1748354195430,
     "user": {
      "displayName": "rin rif",
      "userId": "06048421096036182618"
     },
     "user_tz": -420
    },
    "id": "FVYwaObI8DC1"
   },
   "outputs": [],
   "source": [
    "import os, shutil\n",
    "import shutil\n",
    "from shutil import copyfile\n",
    "import pathlib\n",
    "from pathlib import Path\n",
    "import numpy as np\n",
    "import pandas as pd\n",
    "import matplotlib.pyplot as plt\n",
    "import seaborn as sns\n",
    "from google.colab import files,drive\n",
    "import gdown\n",
    "import zipfile"
   ]
  },
  {
   "cell_type": "code",
   "execution_count": 3,
   "metadata": {
    "executionInfo": {
     "elapsed": 2797,
     "status": "ok",
     "timestamp": 1748354198232,
     "user": {
      "displayName": "rin rif",
      "userId": "06048421096036182618"
     },
     "user_tz": -420
    },
    "id": "mM1FVTBQ_Cw8"
   },
   "outputs": [],
   "source": [
    "import cv2\n",
    "import keras\n",
    "from PIL import Image\n",
    "# from sklearn.model_selection import train_test_split\n",
    "import tensorflow as tf\n",
    "from tensorflow.keras import Model, layers\n",
    "from tensorflow.keras.applications import DenseNet121\n",
    "from tensorflow.keras.preprocessing import image\n",
    "from tensorflow.keras.preprocessing.image import ImageDataGenerator\n",
    "from tensorflow.keras.optimizers import Adam\n",
    "from tensorflow.keras.layers import InputLayer, Conv2D, Dense, Flatten, Dropout, BatchNormalization, GlobalAveragePooling2D, Activation, MaxPool2D\n",
    "from tensorflow.keras.models import Sequential, Model,load_model\n",
    "from tensorflow.keras.utils import to_categorical\n",
    "from tensorflow.keras.callbacks import Callback, EarlyStopping, ModelCheckpoint\n",
    "from sklearn.preprocessing import OneHotEncoder\n",
    "from sklearn.utils import resample\n",
    "from sklearn.utils.class_weight import compute_class_weight\n",
    "from sklearn.metrics import accuracy_score,precision_score, recall_score,f1_score, confusion_matrix,classification_report\n",
    "from collections import Counter"
   ]
  },
  {
   "cell_type": "code",
   "execution_count": 4,
   "metadata": {
    "colab": {
     "base_uri": "https://localhost:8080/"
    },
    "executionInfo": {
     "elapsed": 19660,
     "status": "ok",
     "timestamp": 1748354217902,
     "user": {
      "displayName": "rin rif",
      "userId": "06048421096036182618"
     },
     "user_tz": -420
    },
    "id": "naSRnS3RUszn",
    "outputId": "84118af9-9759-4367-c57f-7461229e44a0"
   },
   "outputs": [
    {
     "name": "stdout",
     "output_type": "stream",
     "text": [
      "Mounted at /content/drive\n"
     ]
    }
   ],
   "source": [
    "drive.mount('/content/drive')"
   ]
  },
  {
   "cell_type": "markdown",
   "metadata": {
    "id": "TK4DvqfbYrN8"
   },
   "source": [
    "## Data Preparation"
   ]
  },
  {
   "cell_type": "markdown",
   "metadata": {
    "id": "HHekw29KX4XQ"
   },
   "source": [
    "### Data Loading"
   ]
  },
  {
   "cell_type": "code",
   "execution_count": 8,
   "metadata": {
    "executionInfo": {
     "elapsed": 616,
     "status": "ok",
     "timestamp": 1748354338059,
     "user": {
      "displayName": "rin rif",
      "userId": "06048421096036182618"
     },
     "user_tz": -420
    },
    "id": "-xMU7zNpcmG_"
   },
   "outputs": [],
   "source": [
    "!cp -r /content/drive/MyDrive/capstone-project/skin_dataset.zip ./skin_dataset.zip"
   ]
  },
  {
   "cell_type": "code",
   "execution_count": 9,
   "metadata": {
    "executionInfo": {
     "elapsed": 488,
     "status": "ok",
     "timestamp": 1748354338557,
     "user": {
      "displayName": "rin rif",
      "userId": "06048421096036182618"
     },
     "user_tz": -420
    },
    "id": "sYzFPea1iPvQ"
   },
   "outputs": [],
   "source": [
    "!unzip -q /content/skin_dataset.zip -d ./"
   ]
  },
  {
   "cell_type": "code",
   "execution_count": 10,
   "metadata": {
    "executionInfo": {
     "elapsed": 25,
     "status": "ok",
     "timestamp": 1748354338592,
     "user": {
      "displayName": "rin rif",
      "userId": "06048421096036182618"
     },
     "user_tz": -420
    },
    "id": "7ecaMAOf0PzY"
   },
   "outputs": [],
   "source": [
    "train_dataset_dir='/content/skin_dataset/train'\n",
    "test_dataset_dir='/content/skin_dataset/test'\n",
    "val_dataset_dir='/content/skin_dataset/valid'\n",
    "\n",
    "base_dataset_dir='/content/skin_dataset'"
   ]
  },
  {
   "cell_type": "code",
   "execution_count": 11,
   "metadata": {
    "executionInfo": {
     "elapsed": 336,
     "status": "ok",
     "timestamp": 1748354338937,
     "user": {
      "displayName": "rin rif",
      "userId": "06048421096036182618"
     },
     "user_tz": -420
    },
    "id": "KxpfXnVrsx4A"
   },
   "outputs": [],
   "source": [
    "splits = ['train', 'test', 'valid']\n",
    "selected_categories = ['kering', 'normal', 'berminyak']\n",
    "def create_join_folder(base_split_dir, categories):\n",
    "    joined_dir = os.path.join(base_split_dir, 'joined')\n",
    "    os.makedirs(joined_dir, exist_ok=True)\n",
    "\n",
    "    for category in categories:\n",
    "        category_dir = os.path.join(base_split_dir, category)\n",
    "        if os.path.isdir(category_dir):\n",
    "            for filename in os.listdir(category_dir):\n",
    "                src_file = os.path.join(category_dir, filename)\n",
    "                if os.path.isfile(src_file):\n",
    "\n",
    "                    dst_file = os.path.join(joined_dir, f\"{filename}\")\n",
    "                    shutil.copy2(src_file, dst_file)\n",
    "\n",
    "for split in splits:\n",
    "    split_dir = os.path.join(base_dataset_dir, split)\n",
    "    create_join_folder(split_dir, selected_categories)"
   ]
  },
  {
   "cell_type": "markdown",
   "metadata": {
    "id": "xBTSgX21N22i"
   },
   "source": [
    "### Checking Image Resolution"
   ]
  },
  {
   "cell_type": "code",
   "execution_count": 12,
   "metadata": {
    "colab": {
     "base_uri": "https://localhost:8080/",
     "height": 0
    },
    "executionInfo": {
     "elapsed": 409,
     "status": "ok",
     "timestamp": 1748354339354,
     "user": {
      "displayName": "rin rif",
      "userId": "06048421096036182618"
     },
     "user_tz": -420
    },
    "id": "a06q8k_LN8iG",
    "outputId": "f6158992-d08e-45b2-cbc8-0eb720bf6b2e"
   },
   "outputs": [
    {
     "data": {
      "application/vnd.google.colaboratory.intrinsic+json": {
       "summary": "{\n  \"name\": \"image_resolution_df\",\n  \"rows\": 3944,\n  \"fields\": [\n    {\n      \"column\": \"filename\",\n      \"properties\": {\n        \"dtype\": \"string\",\n        \"num_unique_values\": 3944,\n        \"samples\": [\n          \"berminyak-60-_jpg.rf.2038c91f4e1f5e775104bf6aa364a5c6.jpg\",\n          \"normal-11-_jpg.rf.a162db443b12abb1ce4e0082473456f3.jpg\",\n          \"normal-106-_JPG_jpg.rf.0a93ebbfdaf4ccb094593da5e1b7d85b.jpg\"\n        ],\n        \"semantic_type\": \"\",\n        \"description\": \"\"\n      }\n    },\n    {\n      \"column\": \"split\",\n      \"properties\": {\n        \"dtype\": \"category\",\n        \"num_unique_values\": 3,\n        \"samples\": [\n          \"train\",\n          \"test\",\n          \"valid\"\n        ],\n        \"semantic_type\": \"\",\n        \"description\": \"\"\n      }\n    },\n    {\n      \"column\": \"width\",\n      \"properties\": {\n        \"dtype\": \"number\",\n        \"std\": 0,\n        \"min\": 300,\n        \"max\": 300,\n        \"num_unique_values\": 1,\n        \"samples\": [\n          300\n        ],\n        \"semantic_type\": \"\",\n        \"description\": \"\"\n      }\n    },\n    {\n      \"column\": \"height\",\n      \"properties\": {\n        \"dtype\": \"number\",\n        \"std\": 0,\n        \"min\": 300,\n        \"max\": 300,\n        \"num_unique_values\": 1,\n        \"samples\": [\n          300\n        ],\n        \"semantic_type\": \"\",\n        \"description\": \"\"\n      }\n    }\n  ]\n}",
       "type": "dataframe",
       "variable_name": "image_resolution_df"
      },
      "text/html": [
       "\n",
       "  <div id=\"df-7297d4c7-ffcf-492a-975a-a784268b89bb\" class=\"colab-df-container\">\n",
       "    <div>\n",
       "<style scoped>\n",
       "    .dataframe tbody tr th:only-of-type {\n",
       "        vertical-align: middle;\n",
       "    }\n",
       "\n",
       "    .dataframe tbody tr th {\n",
       "        vertical-align: top;\n",
       "    }\n",
       "\n",
       "    .dataframe thead th {\n",
       "        text-align: right;\n",
       "    }\n",
       "</style>\n",
       "<table border=\"1\" class=\"dataframe\">\n",
       "  <thead>\n",
       "    <tr style=\"text-align: right;\">\n",
       "      <th></th>\n",
       "      <th>filename</th>\n",
       "      <th>split</th>\n",
       "      <th>width</th>\n",
       "      <th>height</th>\n",
       "    </tr>\n",
       "  </thead>\n",
       "  <tbody>\n",
       "    <tr>\n",
       "      <th>0</th>\n",
       "      <td>minyak-38-_jpg.rf.a5b201a466430196082b9ed413e4...</td>\n",
       "      <td>train</td>\n",
       "      <td>300</td>\n",
       "      <td>300</td>\n",
       "    </tr>\n",
       "    <tr>\n",
       "      <th>1</th>\n",
       "      <td>normal-87-_jpg.rf.ebd2e349e37ba97499bd742381ff...</td>\n",
       "      <td>train</td>\n",
       "      <td>300</td>\n",
       "      <td>300</td>\n",
       "    </tr>\n",
       "    <tr>\n",
       "      <th>2</th>\n",
       "      <td>kering-112-_jpg.rf.be6d78093beb3ab0c466712df70...</td>\n",
       "      <td>train</td>\n",
       "      <td>300</td>\n",
       "      <td>300</td>\n",
       "    </tr>\n",
       "    <tr>\n",
       "      <th>3</th>\n",
       "      <td>kering-103-_jpg.rf.cf49537fe58dfebd58bd90b0c1c...</td>\n",
       "      <td>train</td>\n",
       "      <td>300</td>\n",
       "      <td>300</td>\n",
       "    </tr>\n",
       "    <tr>\n",
       "      <th>4</th>\n",
       "      <td>normal-84-_jpg.rf.ff97d2ba3a74b592ca3f1a10ac42...</td>\n",
       "      <td>train</td>\n",
       "      <td>300</td>\n",
       "      <td>300</td>\n",
       "    </tr>\n",
       "  </tbody>\n",
       "</table>\n",
       "</div>\n",
       "    <div class=\"colab-df-buttons\">\n",
       "\n",
       "  <div class=\"colab-df-container\">\n",
       "    <button class=\"colab-df-convert\" onclick=\"convertToInteractive('df-7297d4c7-ffcf-492a-975a-a784268b89bb')\"\n",
       "            title=\"Convert this dataframe to an interactive table.\"\n",
       "            style=\"display:none;\">\n",
       "\n",
       "  <svg xmlns=\"http://www.w3.org/2000/svg\" height=\"24px\" viewBox=\"0 -960 960 960\">\n",
       "    <path d=\"M120-120v-720h720v720H120Zm60-500h600v-160H180v160Zm220 220h160v-160H400v160Zm0 220h160v-160H400v160ZM180-400h160v-160H180v160Zm440 0h160v-160H620v160ZM180-180h160v-160H180v160Zm440 0h160v-160H620v160Z\"/>\n",
       "  </svg>\n",
       "    </button>\n",
       "\n",
       "  <style>\n",
       "    .colab-df-container {\n",
       "      display:flex;\n",
       "      gap: 12px;\n",
       "    }\n",
       "\n",
       "    .colab-df-convert {\n",
       "      background-color: #E8F0FE;\n",
       "      border: none;\n",
       "      border-radius: 50%;\n",
       "      cursor: pointer;\n",
       "      display: none;\n",
       "      fill: #1967D2;\n",
       "      height: 32px;\n",
       "      padding: 0 0 0 0;\n",
       "      width: 32px;\n",
       "    }\n",
       "\n",
       "    .colab-df-convert:hover {\n",
       "      background-color: #E2EBFA;\n",
       "      box-shadow: 0px 1px 2px rgba(60, 64, 67, 0.3), 0px 1px 3px 1px rgba(60, 64, 67, 0.15);\n",
       "      fill: #174EA6;\n",
       "    }\n",
       "\n",
       "    .colab-df-buttons div {\n",
       "      margin-bottom: 4px;\n",
       "    }\n",
       "\n",
       "    [theme=dark] .colab-df-convert {\n",
       "      background-color: #3B4455;\n",
       "      fill: #D2E3FC;\n",
       "    }\n",
       "\n",
       "    [theme=dark] .colab-df-convert:hover {\n",
       "      background-color: #434B5C;\n",
       "      box-shadow: 0px 1px 3px 1px rgba(0, 0, 0, 0.15);\n",
       "      filter: drop-shadow(0px 1px 2px rgba(0, 0, 0, 0.3));\n",
       "      fill: #FFFFFF;\n",
       "    }\n",
       "  </style>\n",
       "\n",
       "    <script>\n",
       "      const buttonEl =\n",
       "        document.querySelector('#df-7297d4c7-ffcf-492a-975a-a784268b89bb button.colab-df-convert');\n",
       "      buttonEl.style.display =\n",
       "        google.colab.kernel.accessAllowed ? 'block' : 'none';\n",
       "\n",
       "      async function convertToInteractive(key) {\n",
       "        const element = document.querySelector('#df-7297d4c7-ffcf-492a-975a-a784268b89bb');\n",
       "        const dataTable =\n",
       "          await google.colab.kernel.invokeFunction('convertToInteractive',\n",
       "                                                    [key], {});\n",
       "        if (!dataTable) return;\n",
       "\n",
       "        const docLinkHtml = 'Like what you see? Visit the ' +\n",
       "          '<a target=\"_blank\" href=https://colab.research.google.com/notebooks/data_table.ipynb>data table notebook</a>'\n",
       "          + ' to learn more about interactive tables.';\n",
       "        element.innerHTML = '';\n",
       "        dataTable['output_type'] = 'display_data';\n",
       "        await google.colab.output.renderOutput(dataTable, element);\n",
       "        const docLink = document.createElement('div');\n",
       "        docLink.innerHTML = docLinkHtml;\n",
       "        element.appendChild(docLink);\n",
       "      }\n",
       "    </script>\n",
       "  </div>\n",
       "\n",
       "\n",
       "    <div id=\"df-cdd2d647-612c-43db-8b7a-277e03e9462c\">\n",
       "      <button class=\"colab-df-quickchart\" onclick=\"quickchart('df-cdd2d647-612c-43db-8b7a-277e03e9462c')\"\n",
       "                title=\"Suggest charts\"\n",
       "                style=\"display:none;\">\n",
       "\n",
       "<svg xmlns=\"http://www.w3.org/2000/svg\" height=\"24px\"viewBox=\"0 0 24 24\"\n",
       "     width=\"24px\">\n",
       "    <g>\n",
       "        <path d=\"M19 3H5c-1.1 0-2 .9-2 2v14c0 1.1.9 2 2 2h14c1.1 0 2-.9 2-2V5c0-1.1-.9-2-2-2zM9 17H7v-7h2v7zm4 0h-2V7h2v10zm4 0h-2v-4h2v4z\"/>\n",
       "    </g>\n",
       "</svg>\n",
       "      </button>\n",
       "\n",
       "<style>\n",
       "  .colab-df-quickchart {\n",
       "      --bg-color: #E8F0FE;\n",
       "      --fill-color: #1967D2;\n",
       "      --hover-bg-color: #E2EBFA;\n",
       "      --hover-fill-color: #174EA6;\n",
       "      --disabled-fill-color: #AAA;\n",
       "      --disabled-bg-color: #DDD;\n",
       "  }\n",
       "\n",
       "  [theme=dark] .colab-df-quickchart {\n",
       "      --bg-color: #3B4455;\n",
       "      --fill-color: #D2E3FC;\n",
       "      --hover-bg-color: #434B5C;\n",
       "      --hover-fill-color: #FFFFFF;\n",
       "      --disabled-bg-color: #3B4455;\n",
       "      --disabled-fill-color: #666;\n",
       "  }\n",
       "\n",
       "  .colab-df-quickchart {\n",
       "    background-color: var(--bg-color);\n",
       "    border: none;\n",
       "    border-radius: 50%;\n",
       "    cursor: pointer;\n",
       "    display: none;\n",
       "    fill: var(--fill-color);\n",
       "    height: 32px;\n",
       "    padding: 0;\n",
       "    width: 32px;\n",
       "  }\n",
       "\n",
       "  .colab-df-quickchart:hover {\n",
       "    background-color: var(--hover-bg-color);\n",
       "    box-shadow: 0 1px 2px rgba(60, 64, 67, 0.3), 0 1px 3px 1px rgba(60, 64, 67, 0.15);\n",
       "    fill: var(--button-hover-fill-color);\n",
       "  }\n",
       "\n",
       "  .colab-df-quickchart-complete:disabled,\n",
       "  .colab-df-quickchart-complete:disabled:hover {\n",
       "    background-color: var(--disabled-bg-color);\n",
       "    fill: var(--disabled-fill-color);\n",
       "    box-shadow: none;\n",
       "  }\n",
       "\n",
       "  .colab-df-spinner {\n",
       "    border: 2px solid var(--fill-color);\n",
       "    border-color: transparent;\n",
       "    border-bottom-color: var(--fill-color);\n",
       "    animation:\n",
       "      spin 1s steps(1) infinite;\n",
       "  }\n",
       "\n",
       "  @keyframes spin {\n",
       "    0% {\n",
       "      border-color: transparent;\n",
       "      border-bottom-color: var(--fill-color);\n",
       "      border-left-color: var(--fill-color);\n",
       "    }\n",
       "    20% {\n",
       "      border-color: transparent;\n",
       "      border-left-color: var(--fill-color);\n",
       "      border-top-color: var(--fill-color);\n",
       "    }\n",
       "    30% {\n",
       "      border-color: transparent;\n",
       "      border-left-color: var(--fill-color);\n",
       "      border-top-color: var(--fill-color);\n",
       "      border-right-color: var(--fill-color);\n",
       "    }\n",
       "    40% {\n",
       "      border-color: transparent;\n",
       "      border-right-color: var(--fill-color);\n",
       "      border-top-color: var(--fill-color);\n",
       "    }\n",
       "    60% {\n",
       "      border-color: transparent;\n",
       "      border-right-color: var(--fill-color);\n",
       "    }\n",
       "    80% {\n",
       "      border-color: transparent;\n",
       "      border-right-color: var(--fill-color);\n",
       "      border-bottom-color: var(--fill-color);\n",
       "    }\n",
       "    90% {\n",
       "      border-color: transparent;\n",
       "      border-bottom-color: var(--fill-color);\n",
       "    }\n",
       "  }\n",
       "</style>\n",
       "\n",
       "      <script>\n",
       "        async function quickchart(key) {\n",
       "          const quickchartButtonEl =\n",
       "            document.querySelector('#' + key + ' button');\n",
       "          quickchartButtonEl.disabled = true;  // To prevent multiple clicks.\n",
       "          quickchartButtonEl.classList.add('colab-df-spinner');\n",
       "          try {\n",
       "            const charts = await google.colab.kernel.invokeFunction(\n",
       "                'suggestCharts', [key], {});\n",
       "          } catch (error) {\n",
       "            console.error('Error during call to suggestCharts:', error);\n",
       "          }\n",
       "          quickchartButtonEl.classList.remove('colab-df-spinner');\n",
       "          quickchartButtonEl.classList.add('colab-df-quickchart-complete');\n",
       "        }\n",
       "        (() => {\n",
       "          let quickchartButtonEl =\n",
       "            document.querySelector('#df-cdd2d647-612c-43db-8b7a-277e03e9462c button');\n",
       "          quickchartButtonEl.style.display =\n",
       "            google.colab.kernel.accessAllowed ? 'block' : 'none';\n",
       "        })();\n",
       "      </script>\n",
       "    </div>\n",
       "\n",
       "    </div>\n",
       "  </div>\n"
      ],
      "text/plain": [
       "                                            filename  split  width  height\n",
       "0  minyak-38-_jpg.rf.a5b201a466430196082b9ed413e4...  train    300     300\n",
       "1  normal-87-_jpg.rf.ebd2e349e37ba97499bd742381ff...  train    300     300\n",
       "2  kering-112-_jpg.rf.be6d78093beb3ab0c466712df70...  train    300     300\n",
       "3  kering-103-_jpg.rf.cf49537fe58dfebd58bd90b0c1c...  train    300     300\n",
       "4  normal-84-_jpg.rf.ff97d2ba3a74b592ca3f1a10ac42...  train    300     300"
      ]
     },
     "execution_count": 12,
     "metadata": {},
     "output_type": "execute_result"
    }
   ],
   "source": [
    "data = []\n",
    "\n",
    "for split in splits:\n",
    "    joined_dir = os.path.join(base_dataset_dir, split, 'joined')\n",
    "    if os.path.isdir(joined_dir):\n",
    "        for filename in os.listdir(joined_dir):\n",
    "            if filename.lower().endswith(('.jpg', '.jpeg', '.png')):\n",
    "                file_path = os.path.join(joined_dir, filename)\n",
    "                try:\n",
    "                    with Image.open(file_path) as img:\n",
    "                        width, height = img.size\n",
    "                        data.append({\n",
    "                            'filename': filename,\n",
    "                            'split': split,\n",
    "                            'width': width,\n",
    "                            'height': height\n",
    "                        })\n",
    "                except Exception as e:\n",
    "                    print(f\"Error loading {file_path}: {e}\")\n",
    "\n",
    "image_resolution_df = pd.DataFrame(data)\n",
    "image_resolution_df.head()\n"
   ]
  },
  {
   "cell_type": "code",
   "execution_count": 13,
   "metadata": {
    "colab": {
     "base_uri": "https://localhost:8080/"
    },
    "executionInfo": {
     "elapsed": 8,
     "status": "ok",
     "timestamp": 1748354339365,
     "user": {
      "displayName": "rin rif",
      "userId": "06048421096036182618"
     },
     "user_tz": -420
    },
    "id": "7a86-ugROspk",
    "outputId": "3170325e-1c28-4ab8-eb67-2a1b48c8ed28"
   },
   "outputs": [
    {
     "name": "stdout",
     "output_type": "stream",
     "text": [
      "\n",
      "Resolusi yang ditemukan:\n",
      "   width  height  count\n",
      "0    300     300   3944\n"
     ]
    }
   ],
   "source": [
    "print(\"\\nResolusi yang ditemukan:\")\n",
    "print(image_resolution_df[['width', 'height']].value_counts().reset_index(name='count'))"
   ]
  },
  {
   "cell_type": "markdown",
   "metadata": {
    "id": "bFgLyQPHX98s"
   },
   "source": [
    "### Data Preprocessing"
   ]
  },
  {
   "cell_type": "markdown",
   "metadata": {
    "id": "CNM0UoqXLbCL"
   },
   "source": [
    "#### Plot Distribusi"
   ]
  },
  {
   "cell_type": "code",
   "execution_count": 14,
   "metadata": {
    "executionInfo": {
     "elapsed": 2,
     "status": "ok",
     "timestamp": 1748354339385,
     "user": {
      "displayName": "rin rif",
      "userId": "06048421096036182618"
     },
     "user_tz": -420
    },
    "id": "RXJeFtm4xQta"
   },
   "outputs": [],
   "source": [
    "def extract_label_from_filename(fname):\n",
    "    fname_lower = fname.lower()\n",
    "    if 'kering' in fname_lower:\n",
    "        return 'kering'\n",
    "    elif 'normal' in fname_lower:\n",
    "        return 'normal'\n",
    "    elif 'berminyak' in fname_lower or 'minyak' in fname_lower:\n",
    "        return 'berminyak'\n",
    "    else:\n",
    "        return 'unknown'"
   ]
  },
  {
   "cell_type": "code",
   "execution_count": 15,
   "metadata": {
    "colab": {
     "base_uri": "https://localhost:8080/",
     "height": 0
    },
    "executionInfo": {
     "elapsed": 366,
     "status": "ok",
     "timestamp": 1748354339752,
     "user": {
      "displayName": "rin rif",
      "userId": "06048421096036182618"
     },
     "user_tz": -420
    },
    "id": "4L3hORqbLUwi",
    "outputId": "0c0cf290-94a8-4799-da9e-66e9458c7e33"
   },
   "outputs": [
    {
     "name": "stderr",
     "output_type": "stream",
     "text": [
      "<ipython-input-15-5cdbc891fb37>:33: FutureWarning: \n",
      "\n",
      "Passing `palette` without assigning `hue` is deprecated and will be removed in v0.14.0. Assign the `x` variable to `hue` and set `legend=False` for the same effect.\n",
      "\n",
      "  ax = sns.countplot(data=subset_df, x='labels', palette='Set3')\n",
      "<ipython-input-15-5cdbc891fb37>:33: FutureWarning: \n",
      "\n",
      "Passing `palette` without assigning `hue` is deprecated and will be removed in v0.14.0. Assign the `x` variable to `hue` and set `legend=False` for the same effect.\n",
      "\n",
      "  ax = sns.countplot(data=subset_df, x='labels', palette='Set3')\n",
      "<ipython-input-15-5cdbc891fb37>:33: FutureWarning: \n",
      "\n",
      "Passing `palette` without assigning `hue` is deprecated and will be removed in v0.14.0. Assign the `x` variable to `hue` and set `legend=False` for the same effect.\n",
      "\n",
      "  ax = sns.countplot(data=subset_df, x='labels', palette='Set3')\n"
     ]
    },
    {
     "data": {
      "image/png": "[encoded data removed]",
      "text/plain": [
       "<Figure size 1000x500 with 3 Axes>"
      ]
     },
     "metadata": {},
     "output_type": "display_data"
    }
   ],
   "source": [
    "file_name = []\n",
    "labels = []\n",
    "full_path = []\n",
    "split_names = []\n",
    "\n",
    "for split in splits:\n",
    "    joined_path = os.path.join(base_dataset_dir, split, 'joined')\n",
    "    if os.path.isdir(joined_path):\n",
    "        for fname in os.listdir(joined_path):\n",
    "            if fname.lower().endswith(('.jpg', '.jpeg', '.png')):\n",
    "                full_path.append(os.path.join(joined_path, fname))\n",
    "                file_name.append(fname)\n",
    "                split_names.append(split)\n",
    "\n",
    "                label = extract_label_from_filename(fname)\n",
    "                labels.append(label)\n",
    "\n",
    "\n",
    "skin_image_df = pd.DataFrame({\n",
    "    'path': full_path,\n",
    "    'file_name': file_name,\n",
    "    'labels': labels,\n",
    "    'split': split_names\n",
    "})\n",
    "splits = skin_image_df['split'].unique()\n",
    "\n",
    "plt.figure(figsize=(10, 5))\n",
    "\n",
    "for i, split in enumerate(splits):\n",
    "    plt.subplot(1, len(splits), i+1)\n",
    "    subset_df = skin_image_df[skin_image_df['split'] == split]\n",
    "\n",
    "    ax = sns.countplot(data=subset_df, x='labels', palette='Set3')\n",
    "\n",
    "    for container in ax.containers:\n",
    "        ax.bar_label(container, label_type='edge', fontsize=9)\n",
    "\n",
    "    plt.title(f\"Distribusi Kelas - {split.capitalize()}\", fontsize=13)\n",
    "    plt.xlabel(\"Jenis Kulit\")\n",
    "    plt.ylabel(\"Jumlah data\")\n",
    "    plt.xticks(rotation=45)\n",
    "\n",
    "plt.tight_layout()"
   ]
  },
  {
   "cell_type": "code",
   "execution_count": 16,
   "metadata": {
    "colab": {
     "base_uri": "https://localhost:8080/",
     "height": 0
    },
    "executionInfo": {
     "elapsed": 5,
     "status": "ok",
     "timestamp": 1748354339759,
     "user": {
      "displayName": "rin rif",
      "userId": "06048421096036182618"
     },
     "user_tz": -420
    },
    "id": "1C3UhvgaMdDq",
    "outputId": "822efdaa-4a54-4338-dd0a-193816dfe5c0"
   },
   "outputs": [
    {
     "data": {
      "application/vnd.google.colaboratory.intrinsic+json": {
       "summary": "{\n  \"name\": \"skin_image_df\",\n  \"rows\": 3944,\n  \"fields\": [\n    {\n      \"column\": \"path\",\n      \"properties\": {\n        \"dtype\": \"string\",\n        \"num_unique_values\": 3944,\n        \"samples\": [\n          \"/content/skin_dataset/valid/joined/berminyak-60-_jpg.rf.2038c91f4e1f5e775104bf6aa364a5c6.jpg\",\n          \"/content/skin_dataset/train/joined/normal-11-_jpg.rf.a162db443b12abb1ce4e0082473456f3.jpg\",\n          \"/content/skin_dataset/train/joined/normal-106-_JPG_jpg.rf.0a93ebbfdaf4ccb094593da5e1b7d85b.jpg\"\n        ],\n        \"semantic_type\": \"\",\n        \"description\": \"\"\n      }\n    },\n    {\n      \"column\": \"file_name\",\n      \"properties\": {\n        \"dtype\": \"string\",\n        \"num_unique_values\": 3944,\n        \"samples\": [\n          \"berminyak-60-_jpg.rf.2038c91f4e1f5e775104bf6aa364a5c6.jpg\",\n          \"normal-11-_jpg.rf.a162db443b12abb1ce4e0082473456f3.jpg\",\n          \"normal-106-_JPG_jpg.rf.0a93ebbfdaf4ccb094593da5e1b7d85b.jpg\"\n        ],\n        \"semantic_type\": \"\",\n        \"description\": \"\"\n      }\n    },\n    {\n      \"column\": \"labels\",\n      \"properties\": {\n        \"dtype\": \"category\",\n        \"num_unique_values\": 3,\n        \"samples\": [\n          \"berminyak\",\n          \"normal\",\n          \"kering\"\n        ],\n        \"semantic_type\": \"\",\n        \"description\": \"\"\n      }\n    },\n    {\n      \"column\": \"split\",\n      \"properties\": {\n        \"dtype\": \"category\",\n        \"num_unique_values\": 3,\n        \"samples\": [\n          \"train\",\n          \"test\",\n          \"valid\"\n        ],\n        \"semantic_type\": \"\",\n        \"description\": \"\"\n      }\n    }\n  ]\n}",
       "type": "dataframe",
       "variable_name": "skin_image_df"
      },
      "text/html": [
       "\n",
       "  <div id=\"df-326d6a42-aacd-4b78-a3dc-f82a3e3d63cb\" class=\"colab-df-container\">\n",
       "    <div>\n",
       "<style scoped>\n",
       "    .dataframe tbody tr th:only-of-type {\n",
       "        vertical-align: middle;\n",
       "    }\n",
       "\n",
       "    .dataframe tbody tr th {\n",
       "        vertical-align: top;\n",
       "    }\n",
       "\n",
       "    .dataframe thead th {\n",
       "        text-align: right;\n",
       "    }\n",
       "</style>\n",
       "<table border=\"1\" class=\"dataframe\">\n",
       "  <thead>\n",
       "    <tr style=\"text-align: right;\">\n",
       "      <th></th>\n",
       "      <th>path</th>\n",
       "      <th>file_name</th>\n",
       "      <th>labels</th>\n",
       "      <th>split</th>\n",
       "    </tr>\n",
       "  </thead>\n",
       "  <tbody>\n",
       "    <tr>\n",
       "      <th>0</th>\n",
       "      <td>/content/skin_dataset/train/joined/minyak-38-_...</td>\n",
       "      <td>minyak-38-_jpg.rf.a5b201a466430196082b9ed413e4...</td>\n",
       "      <td>berminyak</td>\n",
       "      <td>train</td>\n",
       "    </tr>\n",
       "    <tr>\n",
       "      <th>1</th>\n",
       "      <td>/content/skin_dataset/train/joined/normal-87-_...</td>\n",
       "      <td>normal-87-_jpg.rf.ebd2e349e37ba97499bd742381ff...</td>\n",
       "      <td>normal</td>\n",
       "      <td>train</td>\n",
       "    </tr>\n",
       "    <tr>\n",
       "      <th>2</th>\n",
       "      <td>/content/skin_dataset/train/joined/kering-112-...</td>\n",
       "      <td>kering-112-_jpg.rf.be6d78093beb3ab0c466712df70...</td>\n",
       "      <td>kering</td>\n",
       "      <td>train</td>\n",
       "    </tr>\n",
       "    <tr>\n",
       "      <th>3</th>\n",
       "      <td>/content/skin_dataset/train/joined/kering-103-...</td>\n",
       "      <td>kering-103-_jpg.rf.cf49537fe58dfebd58bd90b0c1c...</td>\n",
       "      <td>kering</td>\n",
       "      <td>train</td>\n",
       "    </tr>\n",
       "    <tr>\n",
       "      <th>4</th>\n",
       "      <td>/content/skin_dataset/train/joined/normal-84-_...</td>\n",
       "      <td>normal-84-_jpg.rf.ff97d2ba3a74b592ca3f1a10ac42...</td>\n",
       "      <td>normal</td>\n",
       "      <td>train</td>\n",
       "    </tr>\n",
       "  </tbody>\n",
       "</table>\n",
       "</div>\n",
       "    <div class=\"colab-df-buttons\">\n",
       "\n",
       "  <div class=\"colab-df-container\">\n",
       "    <button class=\"colab-df-convert\" onclick=\"convertToInteractive('df-326d6a42-aacd-4b78-a3dc-f82a3e3d63cb')\"\n",
       "            title=\"Convert this dataframe to an interactive table.\"\n",
       "            style=\"display:none;\">\n",
       "\n",
       "  <svg xmlns=\"http://www.w3.org/2000/svg\" height=\"24px\" viewBox=\"0 -960 960 960\">\n",
       "    <path d=\"M120-120v-720h720v720H120Zm60-500h600v-160H180v160Zm220 220h160v-160H400v160Zm0 220h160v-160H400v160ZM180-400h160v-160H180v160Zm440 0h160v-160H620v160ZM180-180h160v-160H180v160Zm440 0h160v-160H620v160Z\"/>\n",
       "  </svg>\n",
       "    </button>\n",
       "\n",
       "  <style>\n",
       "    .colab-df-container {\n",
       "      display:flex;\n",
       "      gap: 12px;\n",
       "    }\n",
       "\n",
       "    .colab-df-convert {\n",
       "      background-color: #E8F0FE;\n",
       "      border: none;\n",
       "      border-radius: 50%;\n",
       "      cursor: pointer;\n",
       "      display: none;\n",
       "      fill: #1967D2;\n",
       "      height: 32px;\n",
       "      padding: 0 0 0 0;\n",
       "      width: 32px;\n",
       "    }\n",
       "\n",
       "    .colab-df-convert:hover {\n",
       "      background-color: #E2EBFA;\n",
       "      box-shadow: 0px 1px 2px rgba(60, 64, 67, 0.3), 0px 1px 3px 1px rgba(60, 64, 67, 0.15);\n",
       "      fill: #174EA6;\n",
       "    }\n",
       "\n",
       "    .colab-df-buttons div {\n",
       "      margin-bottom: 4px;\n",
       "    }\n",
       "\n",
       "    [theme=dark] .colab-df-convert {\n",
       "      background-color: #3B4455;\n",
       "      fill: #D2E3FC;\n",
       "    }\n",
       "\n",
       "    [theme=dark] .colab-df-convert:hover {\n",
       "      background-color: #434B5C;\n",
       "      box-shadow: 0px 1px 3px 1px rgba(0, 0, 0, 0.15);\n",
       "      filter: drop-shadow(0px 1px 2px rgba(0, 0, 0, 0.3));\n",
       "      fill: #FFFFFF;\n",
       "    }\n",
       "  </style>\n",
       "\n",
       "    <script>\n",
       "      const buttonEl =\n",
       "        document.querySelector('#df-326d6a42-aacd-4b78-a3dc-f82a3e3d63cb button.colab-df-convert');\n",
       "      buttonEl.style.display =\n",
       "        google.colab.kernel.accessAllowed ? 'block' : 'none';\n",
       "\n",
       "      async function convertToInteractive(key) {\n",
       "        const element = document.querySelector('#df-326d6a42-aacd-4b78-a3dc-f82a3e3d63cb');\n",
       "        const dataTable =\n",
       "          await google.colab.kernel.invokeFunction('convertToInteractive',\n",
       "                                                    [key], {});\n",
       "        if (!dataTable) return;\n",
       "\n",
       "        const docLinkHtml = 'Like what you see? Visit the ' +\n",
       "          '<a target=\"_blank\" href=https://colab.research.google.com/notebooks/data_table.ipynb>data table notebook</a>'\n",
       "          + ' to learn more about interactive tables.';\n",
       "        element.innerHTML = '';\n",
       "        dataTable['output_type'] = 'display_data';\n",
       "        await google.colab.output.renderOutput(dataTable, element);\n",
       "        const docLink = document.createElement('div');\n",
       "        docLink.innerHTML = docLinkHtml;\n",
       "        element.appendChild(docLink);\n",
       "      }\n",
       "    </script>\n",
       "  </div>\n",
       "\n",
       "\n",
       "    <div id=\"df-5203574a-8b53-497f-8b6d-d976db8eb1ff\">\n",
       "      <button class=\"colab-df-quickchart\" onclick=\"quickchart('df-5203574a-8b53-497f-8b6d-d976db8eb1ff')\"\n",
       "                title=\"Suggest charts\"\n",
       "                style=\"display:none;\">\n",
       "\n",
       "<svg xmlns=\"http://www.w3.org/2000/svg\" height=\"24px\"viewBox=\"0 0 24 24\"\n",
       "     width=\"24px\">\n",
       "    <g>\n",
       "        <path d=\"M19 3H5c-1.1 0-2 .9-2 2v14c0 1.1.9 2 2 2h14c1.1 0 2-.9 2-2V5c0-1.1-.9-2-2-2zM9 17H7v-7h2v7zm4 0h-2V7h2v10zm4 0h-2v-4h2v4z\"/>\n",
       "    </g>\n",
       "</svg>\n",
       "      </button>\n",
       "\n",
       "<style>\n",
       "  .colab-df-quickchart {\n",
       "      --bg-color: #E8F0FE;\n",
       "      --fill-color: #1967D2;\n",
       "      --hover-bg-color: #E2EBFA;\n",
       "      --hover-fill-color: #174EA6;\n",
       "      --disabled-fill-color: #AAA;\n",
       "      --disabled-bg-color: #DDD;\n",
       "  }\n",
       "\n",
       "  [theme=dark] .colab-df-quickchart {\n",
       "      --bg-color: #3B4455;\n",
       "      --fill-color: #D2E3FC;\n",
       "      --hover-bg-color: #434B5C;\n",
       "      --hover-fill-color: #FFFFFF;\n",
       "      --disabled-bg-color: #3B4455;\n",
       "      --disabled-fill-color: #666;\n",
       "  }\n",
       "\n",
       "  .colab-df-quickchart {\n",
       "    background-color: var(--bg-color);\n",
       "    border: none;\n",
       "    border-radius: 50%;\n",
       "    cursor: pointer;\n",
       "    display: none;\n",
       "    fill: var(--fill-color);\n",
       "    height: 32px;\n",
       "    padding: 0;\n",
       "    width: 32px;\n",
       "  }\n",
       "\n",
       "  .colab-df-quickchart:hover {\n",
       "    background-color: var(--hover-bg-color);\n",
       "    box-shadow: 0 1px 2px rgba(60, 64, 67, 0.3), 0 1px 3px 1px rgba(60, 64, 67, 0.15);\n",
       "    fill: var(--button-hover-fill-color);\n",
       "  }\n",
       "\n",
       "  .colab-df-quickchart-complete:disabled,\n",
       "  .colab-df-quickchart-complete:disabled:hover {\n",
       "    background-color: var(--disabled-bg-color);\n",
       "    fill: var(--disabled-fill-color);\n",
       "    box-shadow: none;\n",
       "  }\n",
       "\n",
       "  .colab-df-spinner {\n",
       "    border: 2px solid var(--fill-color);\n",
       "    border-color: transparent;\n",
       "    border-bottom-color: var(--fill-color);\n",
       "    animation:\n",
       "      spin 1s steps(1) infinite;\n",
       "  }\n",
       "\n",
       "  @keyframes spin {\n",
       "    0% {\n",
       "      border-color: transparent;\n",
       "      border-bottom-color: var(--fill-color);\n",
       "      border-left-color: var(--fill-color);\n",
       "    }\n",
       "    20% {\n",
       "      border-color: transparent;\n",
       "      border-left-color: var(--fill-color);\n",
       "      border-top-color: var(--fill-color);\n",
       "    }\n",
       "    30% {\n",
       "      border-color: transparent;\n",
       "      border-left-color: var(--fill-color);\n",
       "      border-top-color: var(--fill-color);\n",
       "      border-right-color: var(--fill-color);\n",
       "    }\n",
       "    40% {\n",
       "      border-color: transparent;\n",
       "      border-right-color: var(--fill-color);\n",
       "      border-top-color: var(--fill-color);\n",
       "    }\n",
       "    60% {\n",
       "      border-color: transparent;\n",
       "      border-right-color: var(--fill-color);\n",
       "    }\n",
       "    80% {\n",
       "      border-color: transparent;\n",
       "      border-right-color: var(--fill-color);\n",
       "      border-bottom-color: var(--fill-color);\n",
       "    }\n",
       "    90% {\n",
       "      border-color: transparent;\n",
       "      border-bottom-color: var(--fill-color);\n",
       "    }\n",
       "  }\n",
       "</style>\n",
       "\n",
       "      <script>\n",
       "        async function quickchart(key) {\n",
       "          const quickchartButtonEl =\n",
       "            document.querySelector('#' + key + ' button');\n",
       "          quickchartButtonEl.disabled = true;  // To prevent multiple clicks.\n",
       "          quickchartButtonEl.classList.add('colab-df-spinner');\n",
       "          try {\n",
       "            const charts = await google.colab.kernel.invokeFunction(\n",
       "                'suggestCharts', [key], {});\n",
       "          } catch (error) {\n",
       "            console.error('Error during call to suggestCharts:', error);\n",
       "          }\n",
       "          quickchartButtonEl.classList.remove('colab-df-spinner');\n",
       "          quickchartButtonEl.classList.add('colab-df-quickchart-complete');\n",
       "        }\n",
       "        (() => {\n",
       "          let quickchartButtonEl =\n",
       "            document.querySelector('#df-5203574a-8b53-497f-8b6d-d976db8eb1ff button');\n",
       "          quickchartButtonEl.style.display =\n",
       "            google.colab.kernel.accessAllowed ? 'block' : 'none';\n",
       "        })();\n",
       "      </script>\n",
       "    </div>\n",
       "\n",
       "    </div>\n",
       "  </div>\n"
      ],
      "text/plain": [
       "                                                path  \\\n",
       "0  /content/skin_dataset/train/joined/minyak-38-_...   \n",
       "1  /content/skin_dataset/train/joined/normal-87-_...   \n",
       "2  /content/skin_dataset/train/joined/kering-112-...   \n",
       "3  /content/skin_dataset/train/joined/kering-103-...   \n",
       "4  /content/skin_dataset/train/joined/normal-84-_...   \n",
       "\n",
       "                                           file_name     labels  split  \n",
       "0  minyak-38-_jpg.rf.a5b201a466430196082b9ed413e4...  berminyak  train  \n",
       "1  normal-87-_jpg.rf.ebd2e349e37ba97499bd742381ff...     normal  train  \n",
       "2  kering-112-_jpg.rf.be6d78093beb3ab0c466712df70...     kering  train  \n",
       "3  kering-103-_jpg.rf.cf49537fe58dfebd58bd90b0c1c...     kering  train  \n",
       "4  normal-84-_jpg.rf.ff97d2ba3a74b592ca3f1a10ac42...     normal  train  "
      ]
     },
     "execution_count": 16,
     "metadata": {},
     "output_type": "execute_result"
    }
   ],
   "source": [
    "skin_image_df.head()"
   ]
  },
  {
   "cell_type": "code",
   "execution_count": 17,
   "metadata": {
    "colab": {
     "base_uri": "https://localhost:8080/"
    },
    "executionInfo": {
     "elapsed": 38,
     "status": "ok",
     "timestamp": 1748354339800,
     "user": {
      "displayName": "rin rif",
      "userId": "06048421096036182618"
     },
     "user_tz": -420
    },
    "id": "ruHEjvIN108i",
    "outputId": "1a81bdb7-1676-4ec9-f78f-3cd0c50c08e1"
   },
   "outputs": [
    {
     "name": "stdout",
     "output_type": "stream",
     "text": [
      "['berminyak' 'normal' 'kering']\n"
     ]
    }
   ],
   "source": [
    "print(skin_image_df['labels'].unique())"
   ]
  },
  {
   "cell_type": "markdown",
   "metadata": {
    "id": "nxDFhvyKyxN8"
   },
   "source": [
    "#### Undersampling"
   ]
  },
  {
   "cell_type": "markdown",
   "metadata": {
    "id": "hmECBtJ9wPqp"
   },
   "source": [
    "**Train Data**"
   ]
  },
  {
   "cell_type": "code",
   "execution_count": 18,
   "metadata": {
    "colab": {
     "base_uri": "https://localhost:8080/"
    },
    "executionInfo": {
     "elapsed": 7,
     "status": "ok",
     "timestamp": 1748354339809,
     "user": {
      "displayName": "rin rif",
      "userId": "06048421096036182618"
     },
     "user_tz": -420
    },
    "id": "kBdGynAu2E2k",
    "outputId": "3b91cc00-cb33-488d-ad12-73bee8eb9d0c"
   },
   "outputs": [
    {
     "name": "stdout",
     "output_type": "stream",
     "text": [
      "Distribusi kelas Train:\n",
      "berminyak: 1404 gambar\n",
      "normal: 865 gambar\n",
      "kering: 792 gambar\n"
     ]
    }
   ],
   "source": [
    "undersampled_train_dir = '/content/skin_dataset/train_undersampled'\n",
    "joined_train_dataset_dir='/content/skin_dataset/train/joined'\n",
    "\n",
    "\n",
    "os.makedirs(undersampled_train_dir, exist_ok=True)\n",
    "file_names = [f for f in os.listdir(joined_train_dataset_dir) if os.path.isfile(os.path.join(joined_train_dataset_dir, f))]\n",
    "labels = [extract_label_from_filename(f) for f in file_names]\n",
    "\n",
    "# Hitung distribusi\n",
    "label_counts = Counter(labels)\n",
    "print(\"Distribusi kelas Train:\")\n",
    "for label, count in label_counts.items():\n",
    "    print(f\"{label}: {count} gambar\")\n",
    "\n",
    "train_file_df = pd.DataFrame({\n",
    "    'filename': file_names,\n",
    "    'label': labels\n",
    "})\n",
    "train_file_df['filepath'] =train_file_df['filename'].apply(lambda x: os.path.join(joined_train_dataset_dir, x))\n"
   ]
  },
  {
   "cell_type": "code",
   "execution_count": 19,
   "metadata": {
    "executionInfo": {
     "elapsed": 506,
     "status": "ok",
     "timestamp": 1748354340325,
     "user": {
      "displayName": "rin rif",
      "userId": "06048421096036182618"
     },
     "user_tz": -420
    },
    "id": "rgWInllB54Cc"
   },
   "outputs": [],
   "source": [
    "class_counts = train_file_df['label'].value_counts()\n",
    "min_count = class_counts.drop('berminyak').min()\n",
    "\n",
    "berminyak_train_undersampled = resample(\n",
    "    train_file_df[train_file_df['label'] == 'berminyak'],\n",
    "    replace=False,\n",
    "    n_samples=min_count,\n",
    "    random_state=42\n",
    ")\n",
    "\n",
    "undersampled_train_df = pd.concat([\n",
    "    berminyak_train_undersampled,\n",
    "    train_file_df[train_file_df['label'] != 'berminyak']\n",
    "])\n",
    "\n",
    "for _, row in undersampled_train_df.iterrows():\n",
    "    label = row['label']\n",
    "    src_path = row['filepath']\n",
    "    dst_class_dir = os.path.join(undersampled_train_dir, label)\n",
    "    os.makedirs(dst_class_dir, exist_ok=True)\n",
    "    dst_path = os.path.join(dst_class_dir, os.path.basename(src_path))\n",
    "\n",
    "    shutil.copy2(src_path, dst_path)"
   ]
  },
  {
   "cell_type": "markdown",
   "metadata": {
    "id": "9RUf2uuVwUd5"
   },
   "source": [
    "**Validation Data**"
   ]
  },
  {
   "cell_type": "code",
   "execution_count": 20,
   "metadata": {
    "colab": {
     "base_uri": "https://localhost:8080/"
    },
    "executionInfo": {
     "elapsed": 4,
     "status": "ok",
     "timestamp": 1748354340340,
     "user": {
      "displayName": "rin rif",
      "userId": "06048421096036182618"
     },
     "user_tz": -420
    },
    "id": "mLyFBTosvays",
    "outputId": "93736842-50e0-44ab-ba53-4501217f7f62"
   },
   "outputs": [
    {
     "name": "stdout",
     "output_type": "stream",
     "text": [
      "Distribusi kelas Validation:\n",
      "kering: 201 gambar\n",
      "normal: 233 gambar\n",
      "berminyak: 349 gambar\n"
     ]
    }
   ],
   "source": [
    "undersampled_val_dir = '/content/skin_dataset/val_undersampled'\n",
    "joined_val_dataset_dir='/content/skin_dataset/valid/joined'\n",
    "\n",
    "\n",
    "os.makedirs(undersampled_val_dir, exist_ok=True)\n",
    "file_names = [f for f in os.listdir(joined_val_dataset_dir) if os.path.isfile(os.path.join(joined_val_dataset_dir, f))]\n",
    "labels = [extract_label_from_filename(f) for f in file_names]\n",
    "\n",
    "# Hitung distribusi\n",
    "label_counts = Counter(labels)\n",
    "print(\"Distribusi kelas Validation:\")\n",
    "for label, count in label_counts.items():\n",
    "    print(f\"{label}: {count} gambar\")\n",
    "\n",
    "validate_file_df = pd.DataFrame({\n",
    "    'filename': file_names,\n",
    "    'label': labels\n",
    "})\n",
    "validate_file_df['filepath'] =validate_file_df['filename'].apply(lambda x: os.path.join(joined_val_dataset_dir, x))\n"
   ]
  },
  {
   "cell_type": "code",
   "execution_count": 21,
   "metadata": {
    "executionInfo": {
     "elapsed": 129,
     "status": "ok",
     "timestamp": 1748354340480,
     "user": {
      "displayName": "rin rif",
      "userId": "06048421096036182618"
     },
     "user_tz": -420
    },
    "id": "TvR9Pif6wXjR"
   },
   "outputs": [],
   "source": [
    "class_counts = validate_file_df['label'].value_counts()\n",
    "min_count = class_counts.drop('berminyak').min()\n",
    "\n",
    "berminyak_val_undersampled = resample(\n",
    "    validate_file_df[validate_file_df['label'] == 'berminyak'],\n",
    "    replace=False,\n",
    "    n_samples=min_count,\n",
    "    random_state=42\n",
    ")\n",
    "\n",
    "undersampled_val_df = pd.concat([\n",
    "    berminyak_val_undersampled,\n",
    "    validate_file_df[validate_file_df['label'] != 'berminyak']\n",
    "])\n",
    "\n",
    "for _, row in undersampled_val_df.iterrows():\n",
    "    label = row['label']\n",
    "    src_path = row['filepath']\n",
    "    dst_class_dir = os.path.join(undersampled_val_dir, label)\n",
    "    os.makedirs(dst_class_dir, exist_ok=True)\n",
    "    dst_path = os.path.join(dst_class_dir, os.path.basename(src_path))\n",
    "\n",
    "    shutil.copy2(src_path, dst_path)"
   ]
  },
  {
   "cell_type": "markdown",
   "metadata": {
    "id": "ghHMtCi3Kks3"
   },
   "source": [
    "#### Plot distribusi setelah undersampling"
   ]
  },
  {
   "cell_type": "code",
   "execution_count": 22,
   "metadata": {
    "colab": {
     "base_uri": "https://localhost:8080/",
     "height": 0
    },
    "executionInfo": {
     "elapsed": 175,
     "status": "ok",
     "timestamp": 1748354340658,
     "user": {
      "displayName": "rin rif",
      "userId": "06048421096036182618"
     },
     "user_tz": -420
    },
    "id": "Tqkf_jre7Dgg",
    "outputId": "bc52ff29-2dff-4ac3-ffe2-8df1e3d2447e"
   },
   "outputs": [
    {
     "data": {
      "image/png": "[encoded data removed]",
      "text/plain": [
       "<Figure size 640x480 with 1 Axes>"
      ]
     },
     "metadata": {},
     "output_type": "display_data"
    }
   ],
   "source": [
    "# Train\n",
    "label_counts_undersampled_train = undersampled_train_df['label'].value_counts()\n",
    "label_counts_undersampled_train.plot(kind='bar', color='skyblue')\n",
    "plt.title(\"Distribusi Label Setelah Undersampling\")\n",
    "plt.xlabel(\"Label\")\n",
    "plt.ylabel(\"Jumlah Gambar\")\n",
    "plt.xticks(rotation=0)\n",
    "plt.grid(axis='y')"
   ]
  },
  {
   "cell_type": "code",
   "execution_count": 23,
   "metadata": {
    "colab": {
     "base_uri": "https://localhost:8080/",
     "height": 0
    },
    "executionInfo": {
     "elapsed": 93,
     "status": "ok",
     "timestamp": 1748354340754,
     "user": {
      "displayName": "rin rif",
      "userId": "06048421096036182618"
     },
     "user_tz": -420
    },
    "id": "RpIjosdBxE2I",
    "outputId": "70b7f7c5-24bd-49c4-eca2-b9520646b891"
   },
   "outputs": [
    {
     "data": {
      "image/png": "[encoded data removed]",
      "text/plain": [
       "<Figure size 640x480 with 1 Axes>"
      ]
     },
     "metadata": {},
     "output_type": "display_data"
    }
   ],
   "source": [
    "# Validation\n",
    "label_counts_undersampled_train = undersampled_val_df['label'].value_counts()\n",
    "label_counts_undersampled_train.plot(kind='bar', color='skyblue')\n",
    "plt.title(\"Distribusi Label Setelah Undersampling\")\n",
    "plt.xlabel(\"Label\")\n",
    "plt.ylabel(\"Jumlah Gambar\")\n",
    "plt.xticks(rotation=0)\n",
    "plt.grid(axis='y')"
   ]
  },
  {
   "cell_type": "markdown",
   "metadata": {
    "id": "J7rC0rX7MiJH"
   },
   "source": [
    "#### Mengubah subfolder test menjadi dataframe"
   ]
  },
  {
   "cell_type": "code",
   "execution_count": 24,
   "metadata": {
    "executionInfo": {
     "elapsed": 4,
     "status": "ok",
     "timestamp": 1748354340761,
     "user": {
      "displayName": "rin rif",
      "userId": "06048421096036182618"
     },
     "user_tz": -420
    },
    "id": "4cRuUhpePFyH"
   },
   "outputs": [],
   "source": [
    "joined_test_dir='/content/skin_dataset/test/joined'"
   ]
  },
  {
   "cell_type": "code",
   "execution_count": 25,
   "metadata": {
    "executionInfo": {
     "elapsed": 10,
     "status": "ok",
     "timestamp": 1748354340794,
     "user": {
      "displayName": "rin rif",
      "userId": "06048421096036182618"
     },
     "user_tz": -420
    },
    "id": "UoxyH92uQFQr"
   },
   "outputs": [],
   "source": [
    "def joined_subfolder_to_dataframe(joined_test_dir):\n",
    "    file_names = [f for f in os.listdir(joined_test_dir) if os.path.isfile(os.path.join(joined_test_dir, f))]\n",
    "\n",
    "    data = []\n",
    "    for fname in file_names:\n",
    "        fpath = os.path.join(joined_test_dir, fname)\n",
    "        label = extract_label_from_filename(fname)\n",
    "        if label != 'unknown':\n",
    "            data.append({'filepath': fpath, 'label': label})\n",
    "\n",
    "    return pd.DataFrame(data)"
   ]
  },
  {
   "cell_type": "code",
   "execution_count": 26,
   "metadata": {
    "executionInfo": {
     "elapsed": 10,
     "status": "ok",
     "timestamp": 1748354340834,
     "user": {
      "displayName": "rin rif",
      "userId": "06048421096036182618"
     },
     "user_tz": -420
    },
    "id": "aYCJdexbMqhu"
   },
   "outputs": [],
   "source": [
    "test_df = joined_subfolder_to_dataframe(joined_test_dir)"
   ]
  },
  {
   "cell_type": "code",
   "execution_count": 27,
   "metadata": {
    "colab": {
     "base_uri": "https://localhost:8080/",
     "height": 0
    },
    "executionInfo": {
     "elapsed": 36,
     "status": "ok",
     "timestamp": 1748354340873,
     "user": {
      "displayName": "rin rif",
      "userId": "06048421096036182618"
     },
     "user_tz": -420
    },
    "id": "z7FhaadUM9SJ",
    "outputId": "7a114122-777b-4847-8abd-e73f7951fd25"
   },
   "outputs": [
    {
     "data": {
      "application/vnd.google.colaboratory.intrinsic+json": {
       "summary": "{\n  \"name\": \"test_df\",\n  \"rows\": 100,\n  \"fields\": [\n    {\n      \"column\": \"filepath\",\n      \"properties\": {\n        \"dtype\": \"string\",\n        \"num_unique_values\": 100,\n        \"samples\": [\n          \"/content/skin_dataset/test/joined/normal-56-_jpg.rf.c30f53e94f5096ee610b035dfa2da288.jpg\",\n          \"/content/skin_dataset/test/joined/berminyak-5-_jpeg.rf.618d808a25aed430ad930f2a52b01934.jpg\",\n          \"/content/skin_dataset/test/joined/minyak-39-_jpg.rf.ed05b4a7a846764b60f68e20db3a4671.jpg\"\n        ],\n        \"semantic_type\": \"\",\n        \"description\": \"\"\n      }\n    },\n    {\n      \"column\": \"label\",\n      \"properties\": {\n        \"dtype\": \"category\",\n        \"num_unique_values\": 3,\n        \"samples\": [\n          \"berminyak\",\n          \"kering\",\n          \"normal\"\n        ],\n        \"semantic_type\": \"\",\n        \"description\": \"\"\n      }\n    }\n  ]\n}",
       "type": "dataframe",
       "variable_name": "test_df"
      },
      "text/html": [
       "\n",
       "  <div id=\"df-a5a659aa-d8a4-4480-8e1b-2a4825f6aca7\" class=\"colab-df-container\">\n",
       "    <div>\n",
       "<style scoped>\n",
       "    .dataframe tbody tr th:only-of-type {\n",
       "        vertical-align: middle;\n",
       "    }\n",
       "\n",
       "    .dataframe tbody tr th {\n",
       "        vertical-align: top;\n",
       "    }\n",
       "\n",
       "    .dataframe thead th {\n",
       "        text-align: right;\n",
       "    }\n",
       "</style>\n",
       "<table border=\"1\" class=\"dataframe\">\n",
       "  <thead>\n",
       "    <tr style=\"text-align: right;\">\n",
       "      <th></th>\n",
       "      <th>filepath</th>\n",
       "      <th>label</th>\n",
       "    </tr>\n",
       "  </thead>\n",
       "  <tbody>\n",
       "    <tr>\n",
       "      <th>0</th>\n",
       "      <td>/content/skin_dataset/test/joined/berminyak-13...</td>\n",
       "      <td>berminyak</td>\n",
       "    </tr>\n",
       "    <tr>\n",
       "      <th>1</th>\n",
       "      <td>/content/skin_dataset/test/joined/kering-44-_j...</td>\n",
       "      <td>kering</td>\n",
       "    </tr>\n",
       "    <tr>\n",
       "      <th>2</th>\n",
       "      <td>/content/skin_dataset/test/joined/normal-38-_j...</td>\n",
       "      <td>normal</td>\n",
       "    </tr>\n",
       "    <tr>\n",
       "      <th>3</th>\n",
       "      <td>/content/skin_dataset/test/joined/kering-86-_j...</td>\n",
       "      <td>kering</td>\n",
       "    </tr>\n",
       "    <tr>\n",
       "      <th>4</th>\n",
       "      <td>/content/skin_dataset/test/joined/kering-120-_...</td>\n",
       "      <td>kering</td>\n",
       "    </tr>\n",
       "  </tbody>\n",
       "</table>\n",
       "</div>\n",
       "    <div class=\"colab-df-buttons\">\n",
       "\n",
       "  <div class=\"colab-df-container\">\n",
       "    <button class=\"colab-df-convert\" onclick=\"convertToInteractive('df-a5a659aa-d8a4-4480-8e1b-2a4825f6aca7')\"\n",
       "            title=\"Convert this dataframe to an interactive table.\"\n",
       "            style=\"display:none;\">\n",
       "\n",
       "  <svg xmlns=\"http://www.w3.org/2000/svg\" height=\"24px\" viewBox=\"0 -960 960 960\">\n",
       "    <path d=\"M120-120v-720h720v720H120Zm60-500h600v-160H180v160Zm220 220h160v-160H400v160Zm0 220h160v-160H400v160ZM180-400h160v-160H180v160Zm440 0h160v-160H620v160ZM180-180h160v-160H180v160Zm440 0h160v-160H620v160Z\"/>\n",
       "  </svg>\n",
       "    </button>\n",
       "\n",
       "  <style>\n",
       "    .colab-df-container {\n",
       "      display:flex;\n",
       "      gap: 12px;\n",
       "    }\n",
       "\n",
       "    .colab-df-convert {\n",
       "      background-color: #E8F0FE;\n",
       "      border: none;\n",
       "      border-radius: 50%;\n",
       "      cursor: pointer;\n",
       "      display: none;\n",
       "      fill: #1967D2;\n",
       "      height: 32px;\n",
       "      padding: 0 0 0 0;\n",
       "      width: 32px;\n",
       "    }\n",
       "\n",
       "    .colab-df-convert:hover {\n",
       "      background-color: #E2EBFA;\n",
       "      box-shadow: 0px 1px 2px rgba(60, 64, 67, 0.3), 0px 1px 3px 1px rgba(60, 64, 67, 0.15);\n",
       "      fill: #174EA6;\n",
       "    }\n",
       "\n",
       "    .colab-df-buttons div {\n",
       "      margin-bottom: 4px;\n",
       "    }\n",
       "\n",
       "    [theme=dark] .colab-df-convert {\n",
       "      background-color: #3B4455;\n",
       "      fill: #D2E3FC;\n",
       "    }\n",
       "\n",
       "    [theme=dark] .colab-df-convert:hover {\n",
       "      background-color: #434B5C;\n",
       "      box-shadow: 0px 1px 3px 1px rgba(0, 0, 0, 0.15);\n",
       "      filter: drop-shadow(0px 1px 2px rgba(0, 0, 0, 0.3));\n",
       "      fill: #FFFFFF;\n",
       "    }\n",
       "  </style>\n",
       "\n",
       "    <script>\n",
       "      const buttonEl =\n",
       "        document.querySelector('#df-a5a659aa-d8a4-4480-8e1b-2a4825f6aca7 button.colab-df-convert');\n",
       "      buttonEl.style.display =\n",
       "        google.colab.kernel.accessAllowed ? 'block' : 'none';\n",
       "\n",
       "      async function convertToInteractive(key) {\n",
       "        const element = document.querySelector('#df-a5a659aa-d8a4-4480-8e1b-2a4825f6aca7');\n",
       "        const dataTable =\n",
       "          await google.colab.kernel.invokeFunction('convertToInteractive',\n",
       "                                                    [key], {});\n",
       "        if (!dataTable) return;\n",
       "\n",
       "        const docLinkHtml = 'Like what you see? Visit the ' +\n",
       "          '<a target=\"_blank\" href=https://colab.research.google.com/notebooks/data_table.ipynb>data table notebook</a>'\n",
       "          + ' to learn more about interactive tables.';\n",
       "        element.innerHTML = '';\n",
       "        dataTable['output_type'] = 'display_data';\n",
       "        await google.colab.output.renderOutput(dataTable, element);\n",
       "        const docLink = document.createElement('div');\n",
       "        docLink.innerHTML = docLinkHtml;\n",
       "        element.appendChild(docLink);\n",
       "      }\n",
       "    </script>\n",
       "  </div>\n",
       "\n",
       "\n",
       "    <div id=\"df-3228b231-b447-4e73-9fca-b400c120f7ff\">\n",
       "      <button class=\"colab-df-quickchart\" onclick=\"quickchart('df-3228b231-b447-4e73-9fca-b400c120f7ff')\"\n",
       "                title=\"Suggest charts\"\n",
       "                style=\"display:none;\">\n",
       "\n",
       "<svg xmlns=\"http://www.w3.org/2000/svg\" height=\"24px\"viewBox=\"0 0 24 24\"\n",
       "     width=\"24px\">\n",
       "    <g>\n",
       "        <path d=\"M19 3H5c-1.1 0-2 .9-2 2v14c0 1.1.9 2 2 2h14c1.1 0 2-.9 2-2V5c0-1.1-.9-2-2-2zM9 17H7v-7h2v7zm4 0h-2V7h2v10zm4 0h-2v-4h2v4z\"/>\n",
       "    </g>\n",
       "</svg>\n",
       "      </button>\n",
       "\n",
       "<style>\n",
       "  .colab-df-quickchart {\n",
       "      --bg-color: #E8F0FE;\n",
       "      --fill-color: #1967D2;\n",
       "      --hover-bg-color: #E2EBFA;\n",
       "      --hover-fill-color: #174EA6;\n",
       "      --disabled-fill-color: #AAA;\n",
       "      --disabled-bg-color: #DDD;\n",
       "  }\n",
       "\n",
       "  [theme=dark] .colab-df-quickchart {\n",
       "      --bg-color: #3B4455;\n",
       "      --fill-color: #D2E3FC;\n",
       "      --hover-bg-color: #434B5C;\n",
       "      --hover-fill-color: #FFFFFF;\n",
       "      --disabled-bg-color: #3B4455;\n",
       "      --disabled-fill-color: #666;\n",
       "  }\n",
       "\n",
       "  .colab-df-quickchart {\n",
       "    background-color: var(--bg-color);\n",
       "    border: none;\n",
       "    border-radius: 50%;\n",
       "    cursor: pointer;\n",
       "    display: none;\n",
       "    fill: var(--fill-color);\n",
       "    height: 32px;\n",
       "    padding: 0;\n",
       "    width: 32px;\n",
       "  }\n",
       "\n",
       "  .colab-df-quickchart:hover {\n",
       "    background-color: var(--hover-bg-color);\n",
       "    box-shadow: 0 1px 2px rgba(60, 64, 67, 0.3), 0 1px 3px 1px rgba(60, 64, 67, 0.15);\n",
       "    fill: var(--button-hover-fill-color);\n",
       "  }\n",
       "\n",
       "  .colab-df-quickchart-complete:disabled,\n",
       "  .colab-df-quickchart-complete:disabled:hover {\n",
       "    background-color: var(--disabled-bg-color);\n",
       "    fill: var(--disabled-fill-color);\n",
       "    box-shadow: none;\n",
       "  }\n",
       "\n",
       "  .colab-df-spinner {\n",
       "    border: 2px solid var(--fill-color);\n",
       "    border-color: transparent;\n",
       "    border-bottom-color: var(--fill-color);\n",
       "    animation:\n",
       "      spin 1s steps(1) infinite;\n",
       "  }\n",
       "\n",
       "  @keyframes spin {\n",
       "    0% {\n",
       "      border-color: transparent;\n",
       "      border-bottom-color: var(--fill-color);\n",
       "      border-left-color: var(--fill-color);\n",
       "    }\n",
       "    20% {\n",
       "      border-color: transparent;\n",
       "      border-left-color: var(--fill-color);\n",
       "      border-top-color: var(--fill-color);\n",
       "    }\n",
       "    30% {\n",
       "      border-color: transparent;\n",
       "      border-left-color: var(--fill-color);\n",
       "      border-top-color: var(--fill-color);\n",
       "      border-right-color: var(--fill-color);\n",
       "    }\n",
       "    40% {\n",
       "      border-color: transparent;\n",
       "      border-right-color: var(--fill-color);\n",
       "      border-top-color: var(--fill-color);\n",
       "    }\n",
       "    60% {\n",
       "      border-color: transparent;\n",
       "      border-right-color: var(--fill-color);\n",
       "    }\n",
       "    80% {\n",
       "      border-color: transparent;\n",
       "      border-right-color: var(--fill-color);\n",
       "      border-bottom-color: var(--fill-color);\n",
       "    }\n",
       "    90% {\n",
       "      border-color: transparent;\n",
       "      border-bottom-color: var(--fill-color);\n",
       "    }\n",
       "  }\n",
       "</style>\n",
       "\n",
       "      <script>\n",
       "        async function quickchart(key) {\n",
       "          const quickchartButtonEl =\n",
       "            document.querySelector('#' + key + ' button');\n",
       "          quickchartButtonEl.disabled = true;  // To prevent multiple clicks.\n",
       "          quickchartButtonEl.classList.add('colab-df-spinner');\n",
       "          try {\n",
       "            const charts = await google.colab.kernel.invokeFunction(\n",
       "                'suggestCharts', [key], {});\n",
       "          } catch (error) {\n",
       "            console.error('Error during call to suggestCharts:', error);\n",
       "          }\n",
       "          quickchartButtonEl.classList.remove('colab-df-spinner');\n",
       "          quickchartButtonEl.classList.add('colab-df-quickchart-complete');\n",
       "        }\n",
       "        (() => {\n",
       "          let quickchartButtonEl =\n",
       "            document.querySelector('#df-3228b231-b447-4e73-9fca-b400c120f7ff button');\n",
       "          quickchartButtonEl.style.display =\n",
       "            google.colab.kernel.accessAllowed ? 'block' : 'none';\n",
       "        })();\n",
       "      </script>\n",
       "    </div>\n",
       "\n",
       "    </div>\n",
       "  </div>\n"
      ],
      "text/plain": [
       "                                            filepath      label\n",
       "0  /content/skin_dataset/test/joined/berminyak-13...  berminyak\n",
       "1  /content/skin_dataset/test/joined/kering-44-_j...     kering\n",
       "2  /content/skin_dataset/test/joined/normal-38-_j...     normal\n",
       "3  /content/skin_dataset/test/joined/kering-86-_j...     kering\n",
       "4  /content/skin_dataset/test/joined/kering-120-_...     kering"
      ]
     },
     "execution_count": 27,
     "metadata": {},
     "output_type": "execute_result"
    }
   ],
   "source": [
    "test_df.head()"
   ]
  },
  {
   "cell_type": "code",
   "execution_count": 28,
   "metadata": {
    "colab": {
     "base_uri": "https://localhost:8080/",
     "height": 0
    },
    "executionInfo": {
     "elapsed": 4,
     "status": "ok",
     "timestamp": 1748354340890,
     "user": {
      "displayName": "rin rif",
      "userId": "06048421096036182618"
     },
     "user_tz": -420
    },
    "id": "KufdMM9YPbu-",
    "outputId": "40ed6321-f470-4743-cd10-6ad3358778fe"
   },
   "outputs": [
    {
     "data": {
      "text/html": [
       "<div>\n",
       "<style scoped>\n",
       "    .dataframe tbody tr th:only-of-type {\n",
       "        vertical-align: middle;\n",
       "    }\n",
       "\n",
       "    .dataframe tbody tr th {\n",
       "        vertical-align: top;\n",
       "    }\n",
       "\n",
       "    .dataframe thead th {\n",
       "        text-align: right;\n",
       "    }\n",
       "</style>\n",
       "<table border=\"1\" class=\"dataframe\">\n",
       "  <thead>\n",
       "    <tr style=\"text-align: right;\">\n",
       "      <th></th>\n",
       "      <th>count</th>\n",
       "    </tr>\n",
       "    <tr>\n",
       "      <th>label</th>\n",
       "      <th></th>\n",
       "    </tr>\n",
       "  </thead>\n",
       "  <tbody>\n",
       "    <tr>\n",
       "      <th>berminyak</th>\n",
       "      <td>50</td>\n",
       "    </tr>\n",
       "    <tr>\n",
       "      <th>normal</th>\n",
       "      <td>26</td>\n",
       "    </tr>\n",
       "    <tr>\n",
       "      <th>kering</th>\n",
       "      <td>24</td>\n",
       "    </tr>\n",
       "  </tbody>\n",
       "</table>\n",
       "</div><br><label><b>dtype:</b> int64</label>"
      ],
      "text/plain": [
       "label\n",
       "berminyak    50\n",
       "normal       26\n",
       "kering       24\n",
       "Name: count, dtype: int64"
      ]
     },
     "execution_count": 28,
     "metadata": {},
     "output_type": "execute_result"
    }
   ],
   "source": [
    "test_df['label'].value_counts()"
   ]
  },
  {
   "cell_type": "markdown",
   "metadata": {
    "id": "goar9Gi07tGL"
   },
   "source": [
    "#### Augmentasi"
   ]
  },
  {
   "cell_type": "code",
   "execution_count": 29,
   "metadata": {
    "executionInfo": {
     "elapsed": 27,
     "status": "ok",
     "timestamp": 1748354340922,
     "user": {
      "displayName": "rin rif",
      "userId": "06048421096036182618"
     },
     "user_tz": -420
    },
    "id": "7eDzXnKo1baF"
   },
   "outputs": [],
   "source": [
    "train_datagen = ImageDataGenerator(\n",
    "    rescale=1./255,\n",
    ")\n",
    "val_datagen = ImageDataGenerator(rescale=1./255)\n",
    "test_datagen=ImageDataGenerator(rescale=1./255)"
   ]
  },
  {
   "cell_type": "code",
   "execution_count": 30,
   "metadata": {
    "colab": {
     "base_uri": "https://localhost:8080/"
    },
    "executionInfo": {
     "elapsed": 19,
     "status": "ok",
     "timestamp": 1748354340956,
     "user": {
      "displayName": "rin rif",
      "userId": "06048421096036182618"
     },
     "user_tz": -420
    },
    "id": "dIFDfmXm1qNf",
    "outputId": "4cd636d2-e010-4ac9-dcc6-730c7a757072"
   },
   "outputs": [
    {
     "name": "stdout",
     "output_type": "stream",
     "text": [
      "Found 2449 validated image filenames belonging to 3 classes.\n",
      "Found 635 validated image filenames belonging to 3 classes.\n",
      "Found 100 validated image filenames belonging to 3 classes.\n"
     ]
    }
   ],
   "source": [
    "train_generator = train_datagen.flow_from_dataframe(\n",
    "    dataframe=undersampled_train_df,\n",
    "    x_col='filepath',\n",
    "    y_col='label',\n",
    "    target_size=(300, 300),\n",
    "    class_mode='categorical'\n",
    ")\n",
    "\n",
    "val_generator = val_datagen.flow_from_dataframe(\n",
    "    dataframe=undersampled_val_df,\n",
    "    x_col='filepath',\n",
    "    y_col='label',\n",
    "    target_size=(300, 300),\n",
    "    class_mode='categorical',\n",
    "    shuffle=False\n",
    ")\n",
    "\n",
    "test_generator = val_datagen.flow_from_dataframe(\n",
    "    dataframe=test_df,\n",
    "    x_col='filepath',\n",
    "    y_col='label',\n",
    "    target_size=(300, 300),\n",
    "    class_mode='categorical',\n",
    "    shuffle=False\n",
    ")"
   ]
  },
  {
   "cell_type": "markdown",
   "metadata": {
    "id": "nc-Ph-oIYAUU"
   },
   "source": [
    "## Modelling"
   ]
  },
  {
   "cell_type": "code",
   "execution_count": null,
   "metadata": {
    "id": "sGzD8whIg4BN"
   },
   "outputs": [],
   "source": [
    "class accuracyOnTarget(tf.keras.callbacks.Callback):\n",
    "   def on_epoch_end(self, epoch, logs={}):\n",
    "    if (logs.get('val_accuracy') > 0.95 and logs.get('accuracy') > 0.95):\n",
    "      print('\\nVal Akurasi dan Accuracy telah mencapai 95%! Training selesai')\n",
    "      self.model.stop_training = True\n",
    "accuracyCallback = accuracyOnTarget()"
   ]
  },
  {
   "cell_type": "code",
   "execution_count": null,
   "metadata": {
    "id": "FXWkERNWniG1"
   },
   "outputs": [],
   "source": [
    "EarlyStopCallback = EarlyStopping(monitor='val_accuracy',patience=5)"
   ]
  },
  {
   "cell_type": "code",
   "execution_count": null,
   "metadata": {
    "id": "aH5hTsF9UPv_"
   },
   "outputs": [],
   "source": [
    "checkpoint = ModelCheckpoint(\"best_model_denseNet.keras\", save_best_only=True)"
   ]
  },
  {
   "cell_type": "code",
   "execution_count": null,
   "metadata": {
    "id": "xqgTNTNE91Ad"
   },
   "outputs": [],
   "source": [
    "# labels = skin_image_df['labels'].values\n",
    "# class_weights = compute_class_weight(class_weight='balanced', classes=np.unique(labels), y=labels)\n",
    "# class_weight_dict = {i: class_weights[i] for i in range(len(class_weights))}\n",
    "# class_weight_dict_rounded = {k: round(v, 1) for k, v in class_weight_dict.items()}\n",
    "# print(class_weight_dict_rounded)"
   ]
  },
  {
   "cell_type": "markdown",
   "metadata": {
    "id": "9A6ZmXMQt1oX"
   },
   "source": [
    "### Transfer Learning: DenseNet121\n"
   ]
  },
  {
   "cell_type": "code",
   "execution_count": null,
   "metadata": {
    "colab": {
     "base_uri": "https://localhost:8080/",
     "height": 481
    },
    "executionInfo": {
     "elapsed": 2233,
     "status": "ok",
     "timestamp": 1748273703849,
     "user": {
      "displayName": "rin rif",
      "userId": "06048421096036182618"
     },
     "user_tz": -420
    },
    "id": "xsAJxfoXt8S9",
    "outputId": "093cd6d5-0dab-49bb-eda1-9844ddf350b7"
   },
   "outputs": [
    {
     "data": {
      "text/html": [
       "<pre style=\"white-space:pre;overflow-x:auto;line-height:normal;font-family:Menlo,'DejaVu Sans Mono',consolas,'Courier New',monospace\"><span style=\"font-weight: bold\">Model: \"sequential_1\"</span>\n",
       "</pre>\n"
      ],
      "text/plain": [
       "\u001b[1mModel: \"sequential_1\"\u001b[0m\n"
      ]
     },
     "metadata": {},
     "output_type": "display_data"
    },
    {
     "data": {
      "text/html": [
       "<pre style=\"white-space:pre;overflow-x:auto;line-height:normal;font-family:Menlo,'DejaVu Sans Mono',consolas,'Courier New',monospace\">┏━━━━━━━━━━━━━━━━━━━━━━━━━━━━━━━━━┳━━━━━━━━━━━━━━━━━━━━━━━━┳━━━━━━━━━━━━━━━┓\n",
       "┃<span style=\"font-weight: bold\"> Layer (type)                    </span>┃<span style=\"font-weight: bold\"> Output Shape           </span>┃<span style=\"font-weight: bold\">       Param # </span>┃\n",
       "┡━━━━━━━━━━━━━━━━━━━━━━━━━━━━━━━━━╇━━━━━━━━━━━━━━━━━━━━━━━━╇━━━━━━━━━━━━━━━┩\n",
       "│ densenet121 (<span style=\"color: #0087ff; text-decoration-color: #0087ff\">Functional</span>)        │ (<span style=\"color: #00d7ff; text-decoration-color: #00d7ff\">None</span>, <span style=\"color: #00af00; text-decoration-color: #00af00\">9</span>, <span style=\"color: #00af00; text-decoration-color: #00af00\">9</span>, <span style=\"color: #00af00; text-decoration-color: #00af00\">1024</span>)     │     <span style=\"color: #00af00; text-decoration-color: #00af00\">7,037,504</span> │\n",
       "├─────────────────────────────────┼────────────────────────┼───────────────┤\n",
       "│ flatten_1 (<span style=\"color: #0087ff; text-decoration-color: #0087ff\">Flatten</span>)             │ (<span style=\"color: #00d7ff; text-decoration-color: #00d7ff\">None</span>, <span style=\"color: #00af00; text-decoration-color: #00af00\">82944</span>)          │             <span style=\"color: #00af00; text-decoration-color: #00af00\">0</span> │\n",
       "├─────────────────────────────────┼────────────────────────┼───────────────┤\n",
       "│ dense_5 (<span style=\"color: #0087ff; text-decoration-color: #0087ff\">Dense</span>)                 │ (<span style=\"color: #00d7ff; text-decoration-color: #00d7ff\">None</span>, <span style=\"color: #00af00; text-decoration-color: #00af00\">1024</span>)           │    <span style=\"color: #00af00; text-decoration-color: #00af00\">84,935,680</span> │\n",
       "├─────────────────────────────────┼────────────────────────┼───────────────┤\n",
       "│ dropout_4 (<span style=\"color: #0087ff; text-decoration-color: #0087ff\">Dropout</span>)             │ (<span style=\"color: #00d7ff; text-decoration-color: #00d7ff\">None</span>, <span style=\"color: #00af00; text-decoration-color: #00af00\">1024</span>)           │             <span style=\"color: #00af00; text-decoration-color: #00af00\">0</span> │\n",
       "├─────────────────────────────────┼────────────────────────┼───────────────┤\n",
       "│ dense_6 (<span style=\"color: #0087ff; text-decoration-color: #0087ff\">Dense</span>)                 │ (<span style=\"color: #00d7ff; text-decoration-color: #00d7ff\">None</span>, <span style=\"color: #00af00; text-decoration-color: #00af00\">512</span>)            │       <span style=\"color: #00af00; text-decoration-color: #00af00\">524,800</span> │\n",
       "├─────────────────────────────────┼────────────────────────┼───────────────┤\n",
       "│ dropout_5 (<span style=\"color: #0087ff; text-decoration-color: #0087ff\">Dropout</span>)             │ (<span style=\"color: #00d7ff; text-decoration-color: #00d7ff\">None</span>, <span style=\"color: #00af00; text-decoration-color: #00af00\">512</span>)            │             <span style=\"color: #00af00; text-decoration-color: #00af00\">0</span> │\n",
       "├─────────────────────────────────┼────────────────────────┼───────────────┤\n",
       "│ dense_7 (<span style=\"color: #0087ff; text-decoration-color: #0087ff\">Dense</span>)                 │ (<span style=\"color: #00d7ff; text-decoration-color: #00d7ff\">None</span>, <span style=\"color: #00af00; text-decoration-color: #00af00\">256</span>)            │       <span style=\"color: #00af00; text-decoration-color: #00af00\">131,328</span> │\n",
       "├─────────────────────────────────┼────────────────────────┼───────────────┤\n",
       "│ dropout_6 (<span style=\"color: #0087ff; text-decoration-color: #0087ff\">Dropout</span>)             │ (<span style=\"color: #00d7ff; text-decoration-color: #00d7ff\">None</span>, <span style=\"color: #00af00; text-decoration-color: #00af00\">256</span>)            │             <span style=\"color: #00af00; text-decoration-color: #00af00\">0</span> │\n",
       "├─────────────────────────────────┼────────────────────────┼───────────────┤\n",
       "│ dense_8 (<span style=\"color: #0087ff; text-decoration-color: #0087ff\">Dense</span>)                 │ (<span style=\"color: #00d7ff; text-decoration-color: #00d7ff\">None</span>, <span style=\"color: #00af00; text-decoration-color: #00af00\">128</span>)            │        <span style=\"color: #00af00; text-decoration-color: #00af00\">32,896</span> │\n",
       "├─────────────────────────────────┼────────────────────────┼───────────────┤\n",
       "│ dropout_7 (<span style=\"color: #0087ff; text-decoration-color: #0087ff\">Dropout</span>)             │ (<span style=\"color: #00d7ff; text-decoration-color: #00d7ff\">None</span>, <span style=\"color: #00af00; text-decoration-color: #00af00\">128</span>)            │             <span style=\"color: #00af00; text-decoration-color: #00af00\">0</span> │\n",
       "├─────────────────────────────────┼────────────────────────┼───────────────┤\n",
       "│ dense_9 (<span style=\"color: #0087ff; text-decoration-color: #0087ff\">Dense</span>)                 │ (<span style=\"color: #00d7ff; text-decoration-color: #00d7ff\">None</span>, <span style=\"color: #00af00; text-decoration-color: #00af00\">3</span>)              │           <span style=\"color: #00af00; text-decoration-color: #00af00\">387</span> │\n",
       "└─────────────────────────────────┴────────────────────────┴───────────────┘\n",
       "</pre>\n"
      ],
      "text/plain": [
       "┏━━━━━━━━━━━━━━━━━━━━━━━━━━━━━━━━━┳━━━━━━━━━━━━━━━━━━━━━━━━┳━━━━━━━━━━━━━━━┓\n",
       "┃\u001b[1m \u001b[0m\u001b[1mLayer (type)                   \u001b[0m\u001b[1m \u001b[0m┃\u001b[1m \u001b[0m\u001b[1mOutput Shape          \u001b[0m\u001b[1m \u001b[0m┃\u001b[1m \u001b[0m\u001b[1m      Param #\u001b[0m\u001b[1m \u001b[0m┃\n",
       "┡━━━━━━━━━━━━━━━━━━━━━━━━━━━━━━━━━╇━━━━━━━━━━━━━━━━━━━━━━━━╇━━━━━━━━━━━━━━━┩\n",
       "│ densenet121 (\u001b[38;5;33mFunctional\u001b[0m)        │ (\u001b[38;5;45mNone\u001b[0m, \u001b[38;5;34m9\u001b[0m, \u001b[38;5;34m9\u001b[0m, \u001b[38;5;34m1024\u001b[0m)     │     \u001b[38;5;34m7,037,504\u001b[0m │\n",
       "├─────────────────────────────────┼────────────────────────┼───────────────┤\n",
       "│ flatten_1 (\u001b[38;5;33mFlatten\u001b[0m)             │ (\u001b[38;5;45mNone\u001b[0m, \u001b[38;5;34m82944\u001b[0m)          │             \u001b[38;5;34m0\u001b[0m │\n",
       "├─────────────────────────────────┼────────────────────────┼───────────────┤\n",
       "│ dense_5 (\u001b[38;5;33mDense\u001b[0m)                 │ (\u001b[38;5;45mNone\u001b[0m, \u001b[38;5;34m1024\u001b[0m)           │    \u001b[38;5;34m84,935,680\u001b[0m │\n",
       "├─────────────────────────────────┼────────────────────────┼───────────────┤\n",
       "│ dropout_4 (\u001b[38;5;33mDropout\u001b[0m)             │ (\u001b[38;5;45mNone\u001b[0m, \u001b[38;5;34m1024\u001b[0m)           │             \u001b[38;5;34m0\u001b[0m │\n",
       "├─────────────────────────────────┼────────────────────────┼───────────────┤\n",
       "│ dense_6 (\u001b[38;5;33mDense\u001b[0m)                 │ (\u001b[38;5;45mNone\u001b[0m, \u001b[38;5;34m512\u001b[0m)            │       \u001b[38;5;34m524,800\u001b[0m │\n",
       "├─────────────────────────────────┼────────────────────────┼───────────────┤\n",
       "│ dropout_5 (\u001b[38;5;33mDropout\u001b[0m)             │ (\u001b[38;5;45mNone\u001b[0m, \u001b[38;5;34m512\u001b[0m)            │             \u001b[38;5;34m0\u001b[0m │\n",
       "├─────────────────────────────────┼────────────────────────┼───────────────┤\n",
       "│ dense_7 (\u001b[38;5;33mDense\u001b[0m)                 │ (\u001b[38;5;45mNone\u001b[0m, \u001b[38;5;34m256\u001b[0m)            │       \u001b[38;5;34m131,328\u001b[0m │\n",
       "├─────────────────────────────────┼────────────────────────┼───────────────┤\n",
       "│ dropout_6 (\u001b[38;5;33mDropout\u001b[0m)             │ (\u001b[38;5;45mNone\u001b[0m, \u001b[38;5;34m256\u001b[0m)            │             \u001b[38;5;34m0\u001b[0m │\n",
       "├─────────────────────────────────┼────────────────────────┼───────────────┤\n",
       "│ dense_8 (\u001b[38;5;33mDense\u001b[0m)                 │ (\u001b[38;5;45mNone\u001b[0m, \u001b[38;5;34m128\u001b[0m)            │        \u001b[38;5;34m32,896\u001b[0m │\n",
       "├─────────────────────────────────┼────────────────────────┼───────────────┤\n",
       "│ dropout_7 (\u001b[38;5;33mDropout\u001b[0m)             │ (\u001b[38;5;45mNone\u001b[0m, \u001b[38;5;34m128\u001b[0m)            │             \u001b[38;5;34m0\u001b[0m │\n",
       "├─────────────────────────────────┼────────────────────────┼───────────────┤\n",
       "│ dense_9 (\u001b[38;5;33mDense\u001b[0m)                 │ (\u001b[38;5;45mNone\u001b[0m, \u001b[38;5;34m3\u001b[0m)              │           \u001b[38;5;34m387\u001b[0m │\n",
       "└─────────────────────────────────┴────────────────────────┴───────────────┘\n"
      ]
     },
     "metadata": {},
     "output_type": "display_data"
    },
    {
     "data": {
      "text/html": [
       "<pre style=\"white-space:pre;overflow-x:auto;line-height:normal;font-family:Menlo,'DejaVu Sans Mono',consolas,'Courier New',monospace\"><span style=\"font-weight: bold\"> Total params: </span><span style=\"color: #00af00; text-decoration-color: #00af00\">92,662,595</span> (353.48 MB)\n",
       "</pre>\n"
      ],
      "text/plain": [
       "\u001b[1m Total params: \u001b[0m\u001b[38;5;34m92,662,595\u001b[0m (353.48 MB)\n"
      ]
     },
     "metadata": {},
     "output_type": "display_data"
    },
    {
     "data": {
      "text/html": [
       "<pre style=\"white-space:pre;overflow-x:auto;line-height:normal;font-family:Menlo,'DejaVu Sans Mono',consolas,'Courier New',monospace\"><span style=\"font-weight: bold\"> Trainable params: </span><span style=\"color: #00af00; text-decoration-color: #00af00\">85,625,091</span> (326.63 MB)\n",
       "</pre>\n"
      ],
      "text/plain": [
       "\u001b[1m Trainable params: \u001b[0m\u001b[38;5;34m85,625,091\u001b[0m (326.63 MB)\n"
      ]
     },
     "metadata": {},
     "output_type": "display_data"
    },
    {
     "data": {
      "text/html": [
       "<pre style=\"white-space:pre;overflow-x:auto;line-height:normal;font-family:Menlo,'DejaVu Sans Mono',consolas,'Courier New',monospace\"><span style=\"font-weight: bold\"> Non-trainable params: </span><span style=\"color: #00af00; text-decoration-color: #00af00\">7,037,504</span> (26.85 MB)\n",
       "</pre>\n"
      ],
      "text/plain": [
       "\u001b[1m Non-trainable params: \u001b[0m\u001b[38;5;34m7,037,504\u001b[0m (26.85 MB)\n"
      ]
     },
     "metadata": {},
     "output_type": "display_data"
    }
   ],
   "source": [
    "basemodel_DenseNet121 =DenseNet121(\n",
    "  include_top = False,\n",
    "  weights='imagenet',\n",
    "  input_tensor = tf.keras.layers.Input((300, 300, 3)),\n",
    ")\n",
    "basemodel_DenseNet121.trainable = False\n",
    "\n",
    "\n",
    "model_1 = Sequential([\n",
    "    basemodel_DenseNet121,\n",
    "    Flatten(),\n",
    "    Dense(1024, activation='relu'),\n",
    "    Dropout(0.1),\n",
    "    Dense(512, activation='relu'),\n",
    "    Dropout(0.1),\n",
    "    Dense(256, activation='relu'),\n",
    "    Dropout(0.1),\n",
    "    Dense(128, activation='relu'),\n",
    "    Dropout(0.1),\n",
    "    Dense(3, activation='softmax')\n",
    "])\n",
    "model_1.compile(optimizer=Adam(learning_rate=0.01),\n",
    "                loss='categorical_crossentropy',\n",
    "                metrics=['accuracy'])\n",
    "\n",
    "model_1.summary()\n"
   ]
  },
  {
   "cell_type": "code",
   "execution_count": null,
   "metadata": {
    "colab": {
     "base_uri": "https://localhost:8080/"
    },
    "executionInfo": {
     "elapsed": 290252,
     "status": "ok",
     "timestamp": 1748273994104,
     "user": {
      "displayName": "rin rif",
      "userId": "06048421096036182618"
     },
     "user_tz": -420
    },
    "id": "vjNnur4aw5A7",
    "outputId": "ec55ea78-610d-410c-b21e-8f5cf2d6fe1c"
   },
   "outputs": [
    {
     "name": "stdout",
     "output_type": "stream",
     "text": [
      "Epoch 1/100\n"
     ]
    },
    {
     "name": "stderr",
     "output_type": "stream",
     "text": [
      "/usr/local/lib/python3.11/dist-packages/keras/src/trainers/data_adapters/py_dataset_adapter.py:121: UserWarning: Your `PyDataset` class should call `super().__init__(**kwargs)` in its constructor. `**kwargs` can include `workers`, `use_multiprocessing`, `max_queue_size`. Do not pass these arguments to `fit()`, as they will be ignored.\n",
      "  self._warn_if_super_not_called()\n",
      "/usr/local/lib/python3.11/dist-packages/keras/src/models/functional.py:237: UserWarning: The structure of `inputs` doesn't match the expected structure.\n",
      "Expected: ['keras_tensor_439']\n",
      "Received: inputs=Tensor(shape=(None, 300, 300, 3))\n",
      "  warnings.warn(msg)\n"
     ]
    },
    {
     "name": "stdout",
     "output_type": "stream",
     "text": [
      "\u001b[1m77/77\u001b[0m \u001b[32m━━━━━━━━━━━━━━━━━━━━\u001b[0m\u001b[37m\u001b[0m \u001b[1m95s\u001b[0m 786ms/step - accuracy: 0.4210 - loss: 173.5264 - val_accuracy: 0.7276 - val_loss: 0.7330\n",
      "Epoch 2/100\n",
      "\u001b[1m77/77\u001b[0m \u001b[32m━━━━━━━━━━━━━━━━━━━━\u001b[0m\u001b[37m\u001b[0m \u001b[1m19s\u001b[0m 245ms/step - accuracy: 0.6360 - loss: 1.4264 - val_accuracy: 0.7984 - val_loss: 0.5089\n",
      "Epoch 3/100\n",
      "\u001b[1m77/77\u001b[0m \u001b[32m━━━━━━━━━━━━━━━━━━━━\u001b[0m\u001b[37m\u001b[0m \u001b[1m14s\u001b[0m 179ms/step - accuracy: 0.7329 - loss: 0.6573 - val_accuracy: 0.7402 - val_loss: 0.6228\n",
      "Epoch 4/100\n",
      "\u001b[1m77/77\u001b[0m \u001b[32m━━━━━━━━━━━━━━━━━━━━\u001b[0m\u001b[37m\u001b[0m \u001b[1m19s\u001b[0m 249ms/step - accuracy: 0.7894 - loss: 0.5675 - val_accuracy: 0.8850 - val_loss: 0.3641\n",
      "Epoch 5/100\n",
      "\u001b[1m77/77\u001b[0m \u001b[32m━━━━━━━━━━━━━━━━━━━━\u001b[0m\u001b[37m\u001b[0m \u001b[1m19s\u001b[0m 248ms/step - accuracy: 0.8399 - loss: 0.4846 - val_accuracy: 0.8882 - val_loss: 0.3095\n",
      "Epoch 6/100\n",
      "\u001b[1m77/77\u001b[0m \u001b[32m━━━━━━━━━━━━━━━━━━━━\u001b[0m\u001b[37m\u001b[0m \u001b[1m19s\u001b[0m 251ms/step - accuracy: 0.9129 - loss: 0.2847 - val_accuracy: 0.9102 - val_loss: 0.2883\n",
      "Epoch 7/100\n",
      "\u001b[1m77/77\u001b[0m \u001b[32m━━━━━━━━━━━━━━━━━━━━\u001b[0m\u001b[37m\u001b[0m \u001b[1m14s\u001b[0m 184ms/step - accuracy: 0.9351 - loss: 0.2110 - val_accuracy: 0.8772 - val_loss: 0.6388\n",
      "Epoch 8/100\n",
      "\u001b[1m77/77\u001b[0m \u001b[32m━━━━━━━━━━━━━━━━━━━━\u001b[0m\u001b[37m\u001b[0m \u001b[1m19s\u001b[0m 252ms/step - accuracy: 0.8893 - loss: 0.3936 - val_accuracy: 0.9323 - val_loss: 0.2006\n",
      "Epoch 9/100\n",
      "\u001b[1m77/77\u001b[0m \u001b[32m━━━━━━━━━━━━━━━━━━━━\u001b[0m\u001b[37m\u001b[0m \u001b[1m14s\u001b[0m 183ms/step - accuracy: 0.9189 - loss: 0.4056 - val_accuracy: 0.8929 - val_loss: 0.3189\n",
      "Epoch 10/100\n",
      "\u001b[1m77/77\u001b[0m \u001b[32m━━━━━━━━━━━━━━━━━━━━\u001b[0m\u001b[37m\u001b[0m \u001b[1m14s\u001b[0m 184ms/step - accuracy: 0.9134 - loss: 0.2466 - val_accuracy: 0.9197 - val_loss: 0.2156\n",
      "Epoch 11/100\n",
      "\u001b[1m77/77\u001b[0m \u001b[32m━━━━━━━━━━━━━━━━━━━━\u001b[0m\u001b[37m\u001b[0m \u001b[1m14s\u001b[0m 184ms/step - accuracy: 0.9434 - loss: 0.1795 - val_accuracy: 0.8504 - val_loss: 0.4712\n",
      "Epoch 12/100\n",
      "\u001b[1m77/77\u001b[0m \u001b[32m━━━━━━━━━━━━━━━━━━━━\u001b[0m\u001b[37m\u001b[0m \u001b[1m14s\u001b[0m 184ms/step - accuracy: 0.8841 - loss: 0.4585 - val_accuracy: 0.8819 - val_loss: 0.3241\n",
      "Epoch 13/100\n",
      "\u001b[1m77/77\u001b[0m \u001b[32m━━━━━━━━━━━━━━━━━━━━\u001b[0m\u001b[37m\u001b[0m \u001b[1m14s\u001b[0m 182ms/step - accuracy: 0.9229 - loss: 0.2369 - val_accuracy: 0.9323 - val_loss: 0.2448\n"
     ]
    }
   ],
   "source": [
    "history_1 = model_1.fit(\n",
    "    train_generator,\n",
    "    validation_data=val_generator,\n",
    "    epochs=100,\n",
    "    batch_size=32,\n",
    "    callbacks=[accuracyCallback, EarlyStopCallback,checkpoint],\n",
    ")"
   ]
  },
  {
   "cell_type": "code",
   "execution_count": null,
   "metadata": {
    "id": "HZSb9MQ7U8CL"
   },
   "outputs": [],
   "source": [
    "model_1.save('/content/drive/MyDrive/capstone-project/best_model_DenseNet121.keras')"
   ]
  },
  {
   "cell_type": "markdown",
   "metadata": {
    "id": "XctzCfzbYCBK"
   },
   "source": [
    "## Evaluasi dan Visualisasi"
   ]
  },
  {
   "cell_type": "code",
   "execution_count": null,
   "metadata": {
    "id": "04LgZVYtkTIZ"
   },
   "outputs": [],
   "source": [
    "def get_metrics(model, generator, steps, label_set):\n",
    "    y_true = generator.classes\n",
    "    y_pred_probs = model.predict(generator, steps=steps, verbose=0)\n",
    "    y_pred = np.argmax(y_pred_probs, axis=1)\n",
    "\n",
    "    precision = precision_score(y_true, y_pred, average='macro', labels=label_set)\n",
    "    recall = recall_score(y_true, y_pred, average='macro', labels=label_set)\n",
    "    f1 = f1_score(y_true, y_pred, average='macro', labels=label_set)\n",
    "\n",
    "    return precision,recall,f1"
   ]
  },
  {
   "cell_type": "code",
   "execution_count": null,
   "metadata": {
    "id": "DJjAeilKONmD"
   },
   "outputs": [],
   "source": [
    "def evaluate_model(model, history, name, train_gen, test_gen):\n",
    "    train_steps = train_gen.n // train_gen.batch_size + 1\n",
    "    test_steps = test_gen.n // test_gen.batch_size + 1\n",
    "\n",
    "    num_classes = len(train_gen.class_indices)\n",
    "    label_set = list(range(num_classes))\n",
    "\n",
    "    train_prec, train_rec, train_f1 = get_metrics(model, train_gen, train_steps, label_set)\n",
    "    test_prec, test_rec, test_f1 = get_metrics(model, test_gen, test_steps, label_set)\n",
    "\n",
    "    train_loss = history.history['loss'][-1]\n",
    "    train_acc = history.history['accuracy'][-1]\n",
    "    test_loss, test_acc = model_1.evaluate(test_gen, verbose=0)\n",
    "\n",
    "    return {\n",
    "        'Model': name,\n",
    "        'Train Loss': round(train_loss, 4),\n",
    "        'Train Accuracy (%)': round(train_acc * 100, 2),\n",
    "        'Train Precision (%)': round(train_prec * 100, 2),\n",
    "        'Train Recall (%)': round(train_rec * 100, 2),\n",
    "        'Train F1-Score (%)': round(train_f1 * 100, 2),\n",
    "        'Test Loss': round(test_loss, 4),\n",
    "        'Test Accuracy (%)': round(test_acc * 100, 2),\n",
    "        'Test Precision (%)': round(test_prec * 100, 2),\n",
    "        'Test Recall (%)': round(test_rec * 100, 2),\n",
    "        'Test F1-Score (%)': round(test_f1 * 100, 2),\n",
    "    }\n"
   ]
  },
  {
   "cell_type": "code",
   "execution_count": null,
   "metadata": {
    "colab": {
     "base_uri": "https://localhost:8080/",
     "height": 257
    },
    "executionInfo": {
     "elapsed": 47751,
     "status": "ok",
     "timestamp": 1748274074645,
     "user": {
      "displayName": "rin rif",
      "userId": "06048421096036182618"
     },
     "user_tz": -420
    },
    "id": "FSPh_07aOSum",
    "outputId": "c8144584-e505-4bb6-878f-739bd1f00c5c"
   },
   "outputs": [
    {
     "name": "stderr",
     "output_type": "stream",
     "text": [
      "/usr/local/lib/python3.11/dist-packages/keras/src/models/functional.py:237: UserWarning: The structure of `inputs` doesn't match the expected structure.\n",
      "Expected: ['keras_tensor_439']\n",
      "Received: inputs=Tensor(shape=(32, 300, 300, 3))\n",
      "  warnings.warn(msg)\n",
      "/usr/local/lib/python3.11/dist-packages/keras/src/trainers/data_adapters/py_dataset_adapter.py:121: UserWarning: Your `PyDataset` class should call `super().__init__(**kwargs)` in its constructor. `**kwargs` can include `workers`, `use_multiprocessing`, `max_queue_size`. Do not pass these arguments to `fit()`, as they will be ignored.\n",
      "  self._warn_if_super_not_called()\n"
     ]
    },
    {
     "data": {
      "application/vnd.google.colaboratory.intrinsic+json": {
       "summary": "{\n  \"name\": \"evaluation_df\",\n  \"rows\": 1,\n  \"fields\": [\n    {\n      \"column\": \"Model\",\n      \"properties\": {\n        \"dtype\": \"string\",\n        \"num_unique_values\": 1,\n        \"samples\": [\n          \"DenseNet121\"\n        ],\n        \"semantic_type\": \"\",\n        \"description\": \"\"\n      }\n    },\n    {\n      \"column\": \"Train Loss\",\n      \"properties\": {\n        \"dtype\": \"number\",\n        \"std\": null,\n        \"min\": 0.1995,\n        \"max\": 0.1995,\n        \"num_unique_values\": 1,\n        \"samples\": [\n          0.1995\n        ],\n        \"semantic_type\": \"\",\n        \"description\": \"\"\n      }\n    },\n    {\n      \"column\": \"Train Accuracy (%)\",\n      \"properties\": {\n        \"dtype\": \"number\",\n        \"std\": null,\n        \"min\": 94.0,\n        \"max\": 94.0,\n        \"num_unique_values\": 1,\n        \"samples\": [\n          94.0\n        ],\n        \"semantic_type\": \"\",\n        \"description\": \"\"\n      }\n    },\n    {\n      \"column\": \"Train Precision (%)\",\n      \"properties\": {\n        \"dtype\": \"number\",\n        \"std\": null,\n        \"min\": 33.62,\n        \"max\": 33.62,\n        \"num_unique_values\": 1,\n        \"samples\": [\n          33.62\n        ],\n        \"semantic_type\": \"\",\n        \"description\": \"\"\n      }\n    },\n    {\n      \"column\": \"Train Recall (%)\",\n      \"properties\": {\n        \"dtype\": \"number\",\n        \"std\": null,\n        \"min\": 33.62,\n        \"max\": 33.62,\n        \"num_unique_values\": 1,\n        \"samples\": [\n          33.62\n        ],\n        \"semantic_type\": \"\",\n        \"description\": \"\"\n      }\n    },\n    {\n      \"column\": \"Train F1-Score (%)\",\n      \"properties\": {\n        \"dtype\": \"number\",\n        \"std\": null,\n        \"min\": 33.62,\n        \"max\": 33.62,\n        \"num_unique_values\": 1,\n        \"samples\": [\n          33.62\n        ],\n        \"semantic_type\": \"\",\n        \"description\": \"\"\n      }\n    },\n    {\n      \"column\": \"Test Loss\",\n      \"properties\": {\n        \"dtype\": \"number\",\n        \"std\": null,\n        \"min\": 0.7752,\n        \"max\": 0.7752,\n        \"num_unique_values\": 1,\n        \"samples\": [\n          0.7752\n        ],\n        \"semantic_type\": \"\",\n        \"description\": \"\"\n      }\n    },\n    {\n      \"column\": \"Test Accuracy (%)\",\n      \"properties\": {\n        \"dtype\": \"number\",\n        \"std\": null,\n        \"min\": 82.0,\n        \"max\": 82.0,\n        \"num_unique_values\": 1,\n        \"samples\": [\n          82.0\n        ],\n        \"semantic_type\": \"\",\n        \"description\": \"\"\n      }\n    },\n    {\n      \"column\": \"Test Precision (%)\",\n      \"properties\": {\n        \"dtype\": \"number\",\n        \"std\": null,\n        \"min\": 80.54,\n        \"max\": 80.54,\n        \"num_unique_values\": 1,\n        \"samples\": [\n          80.54\n        ],\n        \"semantic_type\": \"\",\n        \"description\": \"\"\n      }\n    },\n    {\n      \"column\": \"Test Recall (%)\",\n      \"properties\": {\n        \"dtype\": \"number\",\n        \"std\": null,\n        \"min\": 81.93,\n        \"max\": 81.93,\n        \"num_unique_values\": 1,\n        \"samples\": [\n          81.93\n        ],\n        \"semantic_type\": \"\",\n        \"description\": \"\"\n      }\n    },\n    {\n      \"column\": \"Test F1-Score (%)\",\n      \"properties\": {\n        \"dtype\": \"number\",\n        \"std\": null,\n        \"min\": 81.05,\n        \"max\": 81.05,\n        \"num_unique_values\": 1,\n        \"samples\": [\n          81.05\n        ],\n        \"semantic_type\": \"\",\n        \"description\": \"\"\n      }\n    }\n  ]\n}",
       "type": "dataframe",
       "variable_name": "evaluation_df"
      },
      "text/html": [
       "\n",
       "  <div id=\"df-ddac9144-0655-4e8d-8d7d-3d50cfd593f4\" class=\"colab-df-container\">\n",
       "    <div>\n",
       "<style scoped>\n",
       "    .dataframe tbody tr th:only-of-type {\n",
       "        vertical-align: middle;\n",
       "    }\n",
       "\n",
       "    .dataframe tbody tr th {\n",
       "        vertical-align: top;\n",
       "    }\n",
       "\n",
       "    .dataframe thead th {\n",
       "        text-align: right;\n",
       "    }\n",
       "</style>\n",
       "<table border=\"1\" class=\"dataframe\">\n",
       "  <thead>\n",
       "    <tr style=\"text-align: right;\">\n",
       "      <th></th>\n",
       "      <th>Model</th>\n",
       "      <th>Train Loss</th>\n",
       "      <th>Train Accuracy (%)</th>\n",
       "      <th>Train Precision (%)</th>\n",
       "      <th>Train Recall (%)</th>\n",
       "      <th>Train F1-Score (%)</th>\n",
       "      <th>Test Loss</th>\n",
       "      <th>Test Accuracy (%)</th>\n",
       "      <th>Test Precision (%)</th>\n",
       "      <th>Test Recall (%)</th>\n",
       "      <th>Test F1-Score (%)</th>\n",
       "    </tr>\n",
       "  </thead>\n",
       "  <tbody>\n",
       "    <tr>\n",
       "      <th>0</th>\n",
       "      <td>DenseNet121</td>\n",
       "      <td>0.1995</td>\n",
       "      <td>94.0</td>\n",
       "      <td>33.62</td>\n",
       "      <td>33.62</td>\n",
       "      <td>33.62</td>\n",
       "      <td>0.7752</td>\n",
       "      <td>82.0</td>\n",
       "      <td>80.54</td>\n",
       "      <td>81.93</td>\n",
       "      <td>81.05</td>\n",
       "    </tr>\n",
       "  </tbody>\n",
       "</table>\n",
       "</div>\n",
       "    <div class=\"colab-df-buttons\">\n",
       "\n",
       "  <div class=\"colab-df-container\">\n",
       "    <button class=\"colab-df-convert\" onclick=\"convertToInteractive('df-ddac9144-0655-4e8d-8d7d-3d50cfd593f4')\"\n",
       "            title=\"Convert this dataframe to an interactive table.\"\n",
       "            style=\"display:none;\">\n",
       "\n",
       "  <svg xmlns=\"http://www.w3.org/2000/svg\" height=\"24px\" viewBox=\"0 -960 960 960\">\n",
       "    <path d=\"M120-120v-720h720v720H120Zm60-500h600v-160H180v160Zm220 220h160v-160H400v160Zm0 220h160v-160H400v160ZM180-400h160v-160H180v160Zm440 0h160v-160H620v160ZM180-180h160v-160H180v160Zm440 0h160v-160H620v160Z\"/>\n",
       "  </svg>\n",
       "    </button>\n",
       "\n",
       "  <style>\n",
       "    .colab-df-container {\n",
       "      display:flex;\n",
       "      gap: 12px;\n",
       "    }\n",
       "\n",
       "    .colab-df-convert {\n",
       "      background-color: #E8F0FE;\n",
       "      border: none;\n",
       "      border-radius: 50%;\n",
       "      cursor: pointer;\n",
       "      display: none;\n",
       "      fill: #1967D2;\n",
       "      height: 32px;\n",
       "      padding: 0 0 0 0;\n",
       "      width: 32px;\n",
       "    }\n",
       "\n",
       "    .colab-df-convert:hover {\n",
       "      background-color: #E2EBFA;\n",
       "      box-shadow: 0px 1px 2px rgba(60, 64, 67, 0.3), 0px 1px 3px 1px rgba(60, 64, 67, 0.15);\n",
       "      fill: #174EA6;\n",
       "    }\n",
       "\n",
       "    .colab-df-buttons div {\n",
       "      margin-bottom: 4px;\n",
       "    }\n",
       "\n",
       "    [theme=dark] .colab-df-convert {\n",
       "      background-color: #3B4455;\n",
       "      fill: #D2E3FC;\n",
       "    }\n",
       "\n",
       "    [theme=dark] .colab-df-convert:hover {\n",
       "      background-color: #434B5C;\n",
       "      box-shadow: 0px 1px 3px 1px rgba(0, 0, 0, 0.15);\n",
       "      filter: drop-shadow(0px 1px 2px rgba(0, 0, 0, 0.3));\n",
       "      fill: #FFFFFF;\n",
       "    }\n",
       "  </style>\n",
       "\n",
       "    <script>\n",
       "      const buttonEl =\n",
       "        document.querySelector('#df-ddac9144-0655-4e8d-8d7d-3d50cfd593f4 button.colab-df-convert');\n",
       "      buttonEl.style.display =\n",
       "        google.colab.kernel.accessAllowed ? 'block' : 'none';\n",
       "\n",
       "      async function convertToInteractive(key) {\n",
       "        const element = document.querySelector('#df-ddac9144-0655-4e8d-8d7d-3d50cfd593f4');\n",
       "        const dataTable =\n",
       "          await google.colab.kernel.invokeFunction('convertToInteractive',\n",
       "                                                    [key], {});\n",
       "        if (!dataTable) return;\n",
       "\n",
       "        const docLinkHtml = 'Like what you see? Visit the ' +\n",
       "          '<a target=\"_blank\" href=https://colab.research.google.com/notebooks/data_table.ipynb>data table notebook</a>'\n",
       "          + ' to learn more about interactive tables.';\n",
       "        element.innerHTML = '';\n",
       "        dataTable['output_type'] = 'display_data';\n",
       "        await google.colab.output.renderOutput(dataTable, element);\n",
       "        const docLink = document.createElement('div');\n",
       "        docLink.innerHTML = docLinkHtml;\n",
       "        element.appendChild(docLink);\n",
       "      }\n",
       "    </script>\n",
       "  </div>\n",
       "\n",
       "\n",
       "  <div id=\"id_dd020d97-f929-4b6b-9b4d-5340182ad718\">\n",
       "    <style>\n",
       "      .colab-df-generate {\n",
       "        background-color: #E8F0FE;\n",
       "        border: none;\n",
       "        border-radius: 50%;\n",
       "        cursor: pointer;\n",
       "        display: none;\n",
       "        fill: #1967D2;\n",
       "        height: 32px;\n",
       "        padding: 0 0 0 0;\n",
       "        width: 32px;\n",
       "      }\n",
       "\n",
       "      .colab-df-generate:hover {\n",
       "        background-color: #E2EBFA;\n",
       "        box-shadow: 0px 1px 2px rgba(60, 64, 67, 0.3), 0px 1px 3px 1px rgba(60, 64, 67, 0.15);\n",
       "        fill: #174EA6;\n",
       "      }\n",
       "\n",
       "      [theme=dark] .colab-df-generate {\n",
       "        background-color: #3B4455;\n",
       "        fill: #D2E3FC;\n",
       "      }\n",
       "\n",
       "      [theme=dark] .colab-df-generate:hover {\n",
       "        background-color: #434B5C;\n",
       "        box-shadow: 0px 1px 3px 1px rgba(0, 0, 0, 0.15);\n",
       "        filter: drop-shadow(0px 1px 2px rgba(0, 0, 0, 0.3));\n",
       "        fill: #FFFFFF;\n",
       "      }\n",
       "    </style>\n",
       "    <button class=\"colab-df-generate\" onclick=\"generateWithVariable('evaluation_df')\"\n",
       "            title=\"Generate code using this dataframe.\"\n",
       "            style=\"display:none;\">\n",
       "\n",
       "  <svg xmlns=\"http://www.w3.org/2000/svg\" height=\"24px\"viewBox=\"0 0 24 24\"\n",
       "       width=\"24px\">\n",
       "    <path d=\"M7,19H8.4L18.45,9,17,7.55,7,17.6ZM5,21V16.75L18.45,3.32a2,2,0,0,1,2.83,0l1.4,1.43a1.91,1.91,0,0,1,.58,1.4,1.91,1.91,0,0,1-.58,1.4L9.25,21ZM18.45,9,17,7.55Zm-12,3A5.31,5.31,0,0,0,4.9,8.1,5.31,5.31,0,0,0,1,6.5,5.31,5.31,0,0,0,4.9,4.9,5.31,5.31,0,0,0,6.5,1,5.31,5.31,0,0,0,8.1,4.9,5.31,5.31,0,0,0,12,6.5,5.46,5.46,0,0,0,6.5,12Z\"/>\n",
       "  </svg>\n",
       "    </button>\n",
       "    <script>\n",
       "      (() => {\n",
       "      const buttonEl =\n",
       "        document.querySelector('#id_dd020d97-f929-4b6b-9b4d-5340182ad718 button.colab-df-generate');\n",
       "      buttonEl.style.display =\n",
       "        google.colab.kernel.accessAllowed ? 'block' : 'none';\n",
       "\n",
       "      buttonEl.onclick = () => {\n",
       "        google.colab.notebook.generateWithVariable('evaluation_df');\n",
       "      }\n",
       "      })();\n",
       "    </script>\n",
       "  </div>\n",
       "\n",
       "    </div>\n",
       "  </div>\n"
      ],
      "text/plain": [
       "         Model  Train Loss  Train Accuracy (%)  Train Precision (%)  \\\n",
       "0  DenseNet121      0.1995                94.0                33.62   \n",
       "\n",
       "   Train Recall (%)  Train F1-Score (%)  Test Loss  Test Accuracy (%)  \\\n",
       "0             33.62               33.62     0.7752               82.0   \n",
       "\n",
       "   Test Precision (%)  Test Recall (%)  Test F1-Score (%)  \n",
       "0               80.54            81.93              81.05  "
      ]
     },
     "metadata": {},
     "output_type": "display_data"
    }
   ],
   "source": [
    "evaluation_df = pd.DataFrame([\n",
    "    evaluate_model(model_1, history_1, \"DenseNet121\", train_generator, test_generator)\n",
    "])\n",
    "\n",
    "display(evaluation_df)"
   ]
  },
  {
   "cell_type": "code",
   "execution_count": null,
   "metadata": {
    "colab": {
     "base_uri": "https://localhost:8080/",
     "height": 284
    },
    "executionInfo": {
     "elapsed": 521,
     "status": "ok",
     "timestamp": 1748274075175,
     "user": {
      "displayName": "rin rif",
      "userId": "06048421096036182618"
     },
     "user_tz": -420
    },
    "id": "6g0E6mzw5JAX",
    "outputId": "8d2dc6e8-b796-4289-e0a6-e371aaa7c9d4"
   },
   "outputs": [
    {
     "data": {
      "image/png": "[encoded data removed]",
      "text/plain": [
       "<Figure size 1400x600 with 2 Axes>"
      ]
     },
     "metadata": {},
     "output_type": "display_data"
    }
   ],
   "source": [
    "plt.figure(figsize=(14, 6))\n",
    "model_name = \"DenseNet121\"\n",
    "\n",
    "# Plot Accuracy\n",
    "plt.subplot(1, 2, 1)\n",
    "plt.plot(history_1.history['accuracy'], label='Train Accuracy', linestyle='-')\n",
    "plt.plot(history_1.history['val_accuracy'], label='Validation Accuracy', linestyle='--')\n",
    "plt.title(f'{model_name} - Train vs Validation Accuracy')\n",
    "plt.xlabel('Epoch')\n",
    "plt.ylabel('Accuracy')\n",
    "plt.legend()\n",
    "plt.grid(True)\n",
    "\n",
    "# Plot Loss\n",
    "plt.subplot(1, 2, 2)\n",
    "plt.plot(history_1.history['loss'], label='Train Loss', linestyle='-')\n",
    "plt.plot(history_1.history['val_loss'], label='Validation Loss', linestyle='--')\n",
    "plt.title(f'{model_name} - Train vs Validation Loss')\n",
    "plt.xlabel('Epoch')\n",
    "plt.ylabel('Loss')\n",
    "plt.legend()\n",
    "plt.grid(True)\n",
    "\n",
    "plt.tight_layout()\n"
   ]
  },
  {
   "cell_type": "code",
   "execution_count": null,
   "metadata": {
    "colab": {
     "base_uri": "https://localhost:8080/"
    },
    "executionInfo": {
     "elapsed": 422,
     "status": "ok",
     "timestamp": 1748274075600,
     "user": {
      "displayName": "rin rif",
      "userId": "06048421096036182618"
     },
     "user_tz": -420
    },
    "id": "aSGX1lyl832o",
    "outputId": "8afd8b9f-d58d-4236-b2b2-f43293f24847"
   },
   "outputs": [
    {
     "name": "stdout",
     "output_type": "stream",
     "text": [
      "=== Classification Report ===\n",
      "              precision    recall  f1-score   support\n",
      "\n",
      "   berminyak     0.8913    0.8200    0.8542        50\n",
      "      kering     0.7917    0.7917    0.7917        24\n",
      "      normal     0.7333    0.8462    0.7857        26\n",
      "\n",
      "    accuracy                         0.8200       100\n",
      "   macro avg     0.8054    0.8193    0.8105       100\n",
      "weighted avg     0.8263    0.8200    0.8214       100\n",
      "\n"
     ]
    }
   ],
   "source": [
    "Y_pred = model_1.predict(test_generator, verbose=0)\n",
    "y_pred_classes = np.argmax(Y_pred, axis=1)\n",
    "y_true = test_generator.classes\n",
    "\n",
    "class_labels = list(test_generator.class_indices.keys())\n",
    "\n",
    "report = classification_report(\n",
    "    y_true,\n",
    "    y_pred_classes,\n",
    "    target_names=class_labels,\n",
    "    digits=4\n",
    ")\n",
    "print(\"=== Classification Report ===\")\n",
    "print(report)"
   ]
  },
  {
   "cell_type": "markdown",
   "metadata": {
    "id": "rKOUVSnJRsCk"
   },
   "source": [
    "## Inference"
   ]
  },
  {
   "cell_type": "code",
   "execution_count": 31,
   "metadata": {
    "executionInfo": {
     "elapsed": 28,
     "status": "ok",
     "timestamp": 1748354343995,
     "user": {
      "displayName": "rin rif",
      "userId": "06048421096036182618"
     },
     "user_tz": -420
    },
    "id": "ne-wIXfjRvZ6"
   },
   "outputs": [],
   "source": [
    "def preprocess_image(img_path, target_size=(300, 300)):\n",
    "    img = image.load_img(img_path, target_size=target_size)\n",
    "    img_array = image.img_to_array(img)\n",
    "    img_array = img_array / 255.0\n",
    "    img_array = np.expand_dims(img_array, axis=0)\n",
    "    return img_array"
   ]
  },
  {
   "cell_type": "code",
   "execution_count": 35,
   "metadata": {
    "colab": {
     "base_uri": "https://localhost:8080/"
    },
    "executionInfo": {
     "elapsed": 15001,
     "status": "ok",
     "timestamp": 1748354430580,
     "user": {
      "displayName": "rin rif",
      "userId": "06048421096036182618"
     },
     "user_tz": -420
    },
    "id": "sjpDc7w2SAGm",
    "outputId": "a3413ea8-b5b8-48aa-c9ea-337a4d1b63ed"
   },
   "outputs": [
    {
     "name": "stderr",
     "output_type": "stream",
     "text": [
      "WARNING:tensorflow:5 out of the last 5 calls to <function TensorFlowTrainer.make_predict_function.<locals>.one_step_on_data_distributed at 0x791b0ff337e0> triggered tf.function retracing. Tracing is expensive and the excessive number of tracings could be due to (1) creating @tf.function repeatedly in a loop, (2) passing tensors with different shapes, (3) passing Python objects instead of tensors. For (1), please define your @tf.function outside of the loop. For (2), @tf.function has reduce_retracing=True option that can avoid unnecessary retracing. For (3), please refer to https://www.tensorflow.org/guide/function#controlling_retracing and https://www.tensorflow.org/api_docs/python/tf/function for  more details.\n"
     ]
    },
    {
     "name": "stdout",
     "output_type": "stream",
     "text": [
      "\u001b[1m1/1\u001b[0m \u001b[32m━━━━━━━━━━━━━━━━━━━━\u001b[0m\u001b[37m\u001b[0m \u001b[1m9s\u001b[0m 9s/step\n",
      "Prediksi: kering (Confidence: 100.00%)\n"
     ]
    }
   ],
   "source": [
    "img_path = '/content/dry_skin2.jpg'\n",
    "processed_img = preprocess_image(img_path)\n",
    "best_model=load_model('/content/drive/MyDrive/capstone-project/Undersampled LR 0.01/best_model_DenseNet121.keras')\n",
    "\n",
    "# Inference\n",
    "pred_probs = best_model.predict(processed_img)\n",
    "pred_class = np.argmax(pred_probs, axis=1)[0]\n",
    "\n",
    "class_indices = test_generator.class_indices\n",
    "labels_map = {v: k for k, v in class_indices.items()}\n",
    "pred_label = labels_map[pred_class]\n",
    "\n",
    "print(f\"Prediksi: {pred_label} (Confidence: {np.max(pred_probs) * 100:.2f}%)\")"
   ]
  }
 ],
 "metadata": {
  "accelerator": "GPU",
  "colab": {
   "collapsed_sections": [
    "TK4DvqfbYrN8",
    "HHekw29KX4XQ",
    "xBTSgX21N22i",
    "CNM0UoqXLbCL",
    "nxDFhvyKyxN8",
    "ghHMtCi3Kks3",
    "J7rC0rX7MiJH",
    "9A6ZmXMQt1oX"
   ],
   "gpuType": "T4",
   "machine_shape": "hm",
   "provenance": [
    {
     "file_id": "1bLFYUU5XBz3JtHSP6RKoCBc23pKodjE8",
     "timestamp": 1748273411977
    },
    {
     "file_id": "15sd1URJNhEGQLSf7ods4is3rg82IrOF2",
     "timestamp": 1748270786491
    },
    {
     "file_id": "1iPzRDvYXrqduyXC-Ki3dFpFrOW_s6GOa",
     "timestamp": 1748269441198
    }
   ]
  },
  "kernelspec": {
   "display_name": "Python 3",
   "name": "python3"
  },
  "language_info": {
   "name": "python"
  }
 },
 "nbformat": 4,
 "nbformat_minor": 0
}
